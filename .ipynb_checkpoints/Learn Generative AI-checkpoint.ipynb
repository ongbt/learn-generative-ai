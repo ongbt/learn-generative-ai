{
 "cells": [
  {
   "cell_type": "code",
   "execution_count": 7,
   "id": "e4a7b62e",
   "metadata": {},
   "outputs": [],
   "source": [
    "# https://learn.ineuron.ai/lesson/DAY---2-%7C-Introduction-to-OpenAI-and-understanding-the-OpenAI-API/656f0bfa0af864fe5e92e73d/course/Foundational-Generative-AI/656d8f170af8644aac926376#"
   ]
  },
  {
   "cell_type": "code",
   "execution_count": 8,
   "id": "6c8469ea",
   "metadata": {},
   "outputs": [
    {
     "data": {
      "text/plain": [
       "True"
      ]
     },
     "execution_count": 8,
     "metadata": {},
     "output_type": "execute_result"
    }
   ],
   "source": [
    "import os\n",
    "from dotenv import load_dotenv\n",
    "load_dotenv()"
   ]
  },
  {
   "cell_type": "code",
   "execution_count": 9,
   "id": "7690d9da",
   "metadata": {},
   "outputs": [],
   "source": [
    "OPENAI_API_KEY = os.getenv(\"OPENAI_API_KEY\")\n",
    "SERPAPI_API_KEY = os.getenv(\"SERPAPI_API_KEY\")"
   ]
  },
  {
   "cell_type": "code",
   "execution_count": 10,
   "id": "42551314",
   "metadata": {},
   "outputs": [],
   "source": [
    "from openai import OpenAI\n",
    "\n"
   ]
  },
  {
   "cell_type": "code",
   "execution_count": 11,
   "id": "f5058dc1",
   "metadata": {},
   "outputs": [],
   "source": [
    "client = OpenAI(api_key=OPENAI_API_KEY)\n",
    "client.api_key = OPENAI_API_KEY"
   ]
  },
  {
   "cell_type": "code",
   "execution_count": 12,
   "id": "a47af1a5",
   "metadata": {},
   "outputs": [],
   "source": [
    "\n",
    "response = client.chat.completions.create(\n",
    "  model=\"gpt-3.5-turbo\",\n",
    "  messages=[\n",
    "    {\n",
    "      \"role\": \"user\",\n",
    "      \"content\": \"how to make money\\n\"\n",
    "    }\n",
    "  ],\n",
    "  temperature=1,\n",
    "  max_tokens=256,\n",
    "  top_p=1,\n",
    "  frequency_penalty=0,\n",
    "  presence_penalty=0\n",
    ")"
   ]
  },
  {
   "cell_type": "code",
   "execution_count": 13,
   "id": "1f0f6cbf",
   "metadata": {},
   "outputs": [
    {
     "data": {
      "text/plain": [
       "ChatCompletion(id='chatcmpl-981WzS8joDDstfjb5rySA28J3CWtF', choices=[Choice(finish_reason='length', index=0, logprobs=None, message=ChatCompletionMessage(content='There are many ways to make money, including:\\n\\n1. Getting a job: Find a job that aligns with your skills and interests, and work to earn a paycheck.\\n\\n2. Freelancing: Offer your skills and services to clients on a freelance basis, such as writing, graphic design, or website development.\\n\\n3. Investing: Put your money into stocks, real estate, or other investment opportunities to potentially earn a return.\\n\\n4. Starting a small business: Start your own business, either online or in-person, to sell products or services to customers.\\n\\n5. Taking online surveys or completing gig work: Participate in online surveys, deliver food with a service like DoorDash or UberEats, or complete small tasks on platforms like TaskRabbit.\\n\\n6. Selling items online: Clear out clutter by selling unwanted items on platforms like eBay, Etsy, or Facebook Marketplace.\\n\\n7. Renting out property: If you own property, consider renting it out on a short-term or long-term basis to earn passive income.\\n\\n8. Tutoring or coaching: Share your expertise by tutoring students or coaching individuals in a specific skill or subject area.\\n\\nThese are just a few ideas to get started, but there are countless ways to make money depending on your skills and interests. Be open', role='assistant', function_call=None, tool_calls=None))], created=1711699537, model='gpt-3.5-turbo-0125', object='chat.completion', system_fingerprint='fp_3bc1b5746c', usage=CompletionUsage(completion_tokens=256, prompt_tokens=12, total_tokens=268))"
      ]
     },
     "execution_count": 13,
     "metadata": {},
     "output_type": "execute_result"
    }
   ],
   "source": [
    "response"
   ]
  }
 ],
 "metadata": {
  "kernelspec": {
   "display_name": "Python 3 (ipykernel)",
   "language": "python",
   "name": "python3"
  },
  "language_info": {
   "codemirror_mode": {
    "name": "ipython",
    "version": 3
   },
   "file_extension": ".py",
   "mimetype": "text/x-python",
   "name": "python",
   "nbconvert_exporter": "python",
   "pygments_lexer": "ipython3",
   "version": "3.10.14"
  }
 },
 "nbformat": 4,
 "nbformat_minor": 5
}
