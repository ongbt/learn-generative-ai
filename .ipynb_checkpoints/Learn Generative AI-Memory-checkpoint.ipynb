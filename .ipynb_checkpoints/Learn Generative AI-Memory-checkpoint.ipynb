{
 "cells": [
  {
   "cell_type": "code",
   "execution_count": 1,
   "id": "fd3709c5",
   "metadata": {},
   "outputs": [],
   "source": [
    "# https://www.youtube.com/watch?v=OSR9YUTGcFk&list=PLmQAMKHKeLZ-iTT-E2kK9uePrJ1Xua9VL&index=4&ab_channel=iNeuronIntelligence\n",
    "# check for Cloudflare if api calls fail"
   ]
  },
  {
   "cell_type": "code",
   "execution_count": 2,
   "id": "4c313b43",
   "metadata": {},
   "outputs": [],
   "source": [
    "#!pip install google_search_results\n",
    "# !pip install wikipedia"
   ]
  },
  {
   "cell_type": "code",
   "execution_count": 3,
   "id": "37b7451a",
   "metadata": {},
   "outputs": [],
   "source": [
    "# !pip install langchain-openai"
   ]
  },
  {
   "cell_type": "code",
   "execution_count": null,
   "id": "8d49a90f",
   "metadata": {},
   "outputs": [],
   "source": [
    "import os\n",
    "from dotenv import load_dotenv\n",
    "load_dotenv()"
   ]
  },
  {
   "cell_type": "code",
   "execution_count": null,
   "id": "e69f8d93",
   "metadata": {},
   "outputs": [],
   "source": [
    "OPENAI_API_KEY = os.getenv(\"OPENAI_API_KEY\")\n",
    "SERPAPI_API_KEY = os.getenv(\"SERPAPI_API_KEY\")"
   ]
  },
  {
   "cell_type": "code",
   "execution_count": 6,
   "id": "3198ab70",
   "metadata": {},
   "outputs": [],
   "source": [
    "from langchain.agents import AgentType\n",
    "from langchain.agents import load_tools\n",
    "from langchain.agents import initialize_agent\n"
   ]
  },
  {
   "cell_type": "code",
   "execution_count": 7,
   "id": "d1f50469",
   "metadata": {},
   "outputs": [],
   "source": [
    "import langchain"
   ]
  },
  {
   "cell_type": "code",
   "execution_count": 12,
   "id": "2b549878-9c2b-425e-a2f0-0e9188a75cca",
   "metadata": {},
   "outputs": [],
   "source": [
    "from langchain.prompts import PromptTemplate\n",
    "from langchain.chains import LLMChain\n",
    "from langchain.llms import OpenAI"
   ]
  },
  {
   "cell_type": "code",
   "execution_count": 11,
   "id": "ea051db0",
   "metadata": {},
   "outputs": [],
   "source": [
    "client = ChatOpenAI(openai_api_key = OPENAI_API_KEY)"
   ]
  },
  {
   "cell_type": "code",
   "execution_count": 14,
   "id": "61d7789e-fc7a-4878-b245-7e76a10fc7b5",
   "metadata": {},
   "outputs": [],
   "source": [
    "prompt_template_name = PromptTemplate(\n",
    "    input_variables = ['cuisine'],\n",
    "    template = \"I want to open a restaurant for {cuisine}, suggest a good name for it\"\n",
    ")"
   ]
  },
  {
   "cell_type": "code",
   "execution_count": 15,
   "id": "16ecc6fe-61c2-41d8-9403-7021cda42df0",
   "metadata": {},
   "outputs": [],
   "source": [
    "chain = LLMChain(llm = client, prompt = prompt_template_name)"
   ]
  },
  {
   "cell_type": "code",
   "execution_count": 17,
   "id": "d9bf3a90-7d59-4072-bc4f-95ac1a1a5255",
   "metadata": {},
   "outputs": [
    {
     "data": {
      "text/plain": [
       "{'cuisine': 'india', 'text': '\"Spice of India\"'}"
      ]
     },
     "execution_count": 17,
     "metadata": {},
     "output_type": "execute_result"
    }
   ],
   "source": [
    "chain.invoke(\"india\")"
   ]
  },
  {
   "cell_type": "markdown",
   "id": "b2c38d2a-09f2-4dea-8135-2fee4a44f18e",
   "metadata": {},
   "source": [
    "##ConversationBufferMemory"
   ]
  },
  {
   "cell_type": "code",
   "execution_count": 23,
   "id": "a7781d3f-1d65-4ec2-92da-5e1003ded90e",
   "metadata": {},
   "outputs": [],
   "source": [
    "from langchain.memory import ConversationBufferMemory"
   ]
  },
  {
   "cell_type": "code",
   "execution_count": 24,
   "id": "4196dbbc-c7bc-4933-8cec-7eab653649b6",
   "metadata": {},
   "outputs": [],
   "source": [
    "memory = ConversationBufferMemory()"
   ]
  },
  {
   "cell_type": "code",
   "execution_count": 25,
   "id": "bf4f5607-2ec9-43f2-8f93-d3b0558914d7",
   "metadata": {},
   "outputs": [],
   "source": [
    "chain = LLMChain(llm = client, prompt = prompt_template_name, memory = memory)"
   ]
  },
  {
   "cell_type": "code",
   "execution_count": 57,
   "id": "e9bba6d6-0726-4ba3-9299-afeec185f04c",
   "metadata": {},
   "outputs": [
    {
     "data": {
      "text/plain": [
       "{'cuisine': 'india',\n",
       " 'history': 'Human: india\\nAI: \"Spice Palace\"\\nHuman: chinese\\nAI: \"Dragon Palace\"\\nHuman: french\\nAI: \"La Belle Cuisine\"',\n",
       " 'text': '\"Taste of India\"'}"
      ]
     },
     "execution_count": 57,
     "metadata": {},
     "output_type": "execute_result"
    }
   ],
   "source": [
    "chain.invoke(\"india\")"
   ]
  },
  {
   "cell_type": "code",
   "execution_count": 58,
   "id": "8a18752e-94f7-4db2-961c-60b431e84630",
   "metadata": {},
   "outputs": [
    {
     "data": {
      "text/plain": [
       "{'cuisine': 'chinese',\n",
       " 'history': 'Human: india\\nAI: \"Spice Palace\"\\nHuman: chinese\\nAI: \"Dragon Palace\"\\nHuman: french\\nAI: \"La Belle Cuisine\"\\nHuman: india\\nAI: \"Taste of India\"',\n",
       " 'text': 'Dragon Wok House'}"
      ]
     },
     "execution_count": 58,
     "metadata": {},
     "output_type": "execute_result"
    }
   ],
   "source": [
    "chain.invoke(\"chinese\")"
   ]
  },
  {
   "cell_type": "code",
   "execution_count": 59,
   "id": "1cbb1ab5-57b3-4dc9-bf1d-8dbb7dfb9776",
   "metadata": {},
   "outputs": [
    {
     "data": {
      "text/plain": [
       "{'cuisine': 'french',\n",
       " 'history': 'Human: india\\nAI: \"Spice Palace\"\\nHuman: chinese\\nAI: \"Dragon Palace\"\\nHuman: french\\nAI: \"La Belle Cuisine\"\\nHuman: india\\nAI: \"Taste of India\"\\nHuman: chinese\\nAI: Dragon Wok House',\n",
       " 'text': '\"Bistro de Paris\"'}"
      ]
     },
     "execution_count": 59,
     "metadata": {},
     "output_type": "execute_result"
    }
   ],
   "source": [
    "chain.invoke(\"french\")"
   ]
  },
  {
   "cell_type": "code",
   "execution_count": 60,
   "id": "c8006f27-e388-4ded-b182-815763a96f81",
   "metadata": {},
   "outputs": [
    {
     "data": {
      "text/plain": [
       "ConversationBufferMemory(chat_memory=ChatMessageHistory(messages=[HumanMessage(content='india'), AIMessage(content='\"Spice Palace\"'), HumanMessage(content='chinese'), AIMessage(content='\"Dragon Palace\"'), HumanMessage(content='french'), AIMessage(content='\"La Belle Cuisine\"'), HumanMessage(content='india'), AIMessage(content='\"Taste of India\"'), HumanMessage(content='chinese'), AIMessage(content='Dragon Wok House'), HumanMessage(content='french'), AIMessage(content='\"Bistro de Paris\"')]))"
      ]
     },
     "execution_count": 60,
     "metadata": {},
     "output_type": "execute_result"
    }
   ],
   "source": [
    "chain.memory"
   ]
  },
  {
   "cell_type": "code",
   "execution_count": 61,
   "id": "d9ff832e-2c8b-47c6-9aea-a1a35f945f47",
   "metadata": {},
   "outputs": [
    {
     "name": "stdout",
     "output_type": "stream",
     "text": [
      "Human: india\n",
      "AI: \"Spice Palace\"\n",
      "Human: chinese\n",
      "AI: \"Dragon Palace\"\n",
      "Human: french\n",
      "AI: \"La Belle Cuisine\"\n",
      "Human: india\n",
      "AI: \"Taste of India\"\n",
      "Human: chinese\n",
      "AI: Dragon Wok House\n",
      "Human: french\n",
      "AI: \"Bistro de Paris\"\n"
     ]
    }
   ],
   "source": [
    "print(chain.memory.buffer)"
   ]
  },
  {
   "cell_type": "markdown",
   "id": "5c1ad7be-8477-4b73-a2de-39bda4b71077",
   "metadata": {},
   "source": [
    "##ConversationChain"
   ]
  },
  {
   "cell_type": "code",
   "execution_count": 35,
   "id": "928aec27-fcdc-480a-a220-60a5423843ea",
   "metadata": {},
   "outputs": [],
   "source": [
    "from langchain.chains import ConversationChain"
   ]
  },
  {
   "cell_type": "code",
   "execution_count": 47,
   "id": "fa5490c7-5498-4a41-8a14-8b36b1a52356",
   "metadata": {},
   "outputs": [],
   "source": [
    "convo = ConversationChain(llm = ChatOpenAI(openai_api_key = OPENAI_API_KEY, temperature = 0.7))"
   ]
  },
  {
   "cell_type": "code",
   "execution_count": 48,
   "id": "d11728cf-6f79-4e3b-94d9-e1dcf718f086",
   "metadata": {},
   "outputs": [
    {
     "name": "stdout",
     "output_type": "stream",
     "text": [
      "The following is a friendly conversation between a human and an AI. The AI is talkative and provides lots of specific details from its context. If the AI does not know the answer to a question, it truthfully says it does not know.\n",
      "\n",
      "Current conversation:\n",
      "{history}\n",
      "Human: {input}\n",
      "AI:\n"
     ]
    }
   ],
   "source": [
    "print(convo.prompt.template)"
   ]
  },
  {
   "cell_type": "code",
   "execution_count": 62,
   "id": "d314db7e-3718-4d29-85c1-d875632fa403",
   "metadata": {},
   "outputs": [
    {
     "data": {
      "text/plain": [
       "'The first Cricket World Cup was held in 1975 and the West Indies won the tournament by defeating Australia in the final. It was a historic moment in cricket history as it marked the beginning of a prestigious tournament that has since become a global sporting event.'"
      ]
     },
     "execution_count": 62,
     "metadata": {},
     "output_type": "execute_result"
    }
   ],
   "source": [
    "convo.run(\"who won the first cricket world cup?\")"
   ]
  },
  {
   "cell_type": "code",
   "execution_count": 63,
   "id": "aceeeba7-eab7-4f42-98ff-ebaf7d253269",
   "metadata": {},
   "outputs": [
    {
     "data": {
      "text/plain": [
       "'5 + 3 equals 8.'"
      ]
     },
     "execution_count": 63,
     "metadata": {},
     "output_type": "execute_result"
    }
   ],
   "source": [
    "convo.run(\"what is 5 +3?\")"
   ]
  },
  {
   "cell_type": "code",
   "execution_count": 64,
   "id": "5f24873c-02a6-4915-b86e-b30589861a5c",
   "metadata": {},
   "outputs": [
    {
     "data": {
      "text/plain": [
       "\"I'm sorry, I do not have that information.\""
      ]
     },
     "execution_count": 64,
     "metadata": {},
     "output_type": "execute_result"
    }
   ],
   "source": [
    "convo.run(\"who the captain of the winning team?\")"
   ]
  },
  {
   "cell_type": "markdown",
   "id": "00c58f16-f91c-4a59-8722-cbb71b1c60d4",
   "metadata": {},
   "source": [
    "##ConversationBufferWindowMemory"
   ]
  },
  {
   "cell_type": "code",
   "execution_count": 54,
   "id": "36ce9dae-ab9b-4229-b06f-1c256ae01d59",
   "metadata": {},
   "outputs": [],
   "source": [
    "from langchain.memory import ConversationBufferWindowMemory"
   ]
  },
  {
   "cell_type": "code",
   "execution_count": 55,
   "id": "fdcf7a74-6a66-4501-8d94-f5467b6cc139",
   "metadata": {},
   "outputs": [],
   "source": [
    "memory = ConversationBufferWindowMemory(k = 1)"
   ]
  },
  {
   "cell_type": "code",
   "execution_count": 56,
   "id": "d48217c1-f2b0-4666-8d7a-700525c10ef6",
   "metadata": {},
   "outputs": [],
   "source": [
    "convo = ConversationChain(llm = ChatOpenAI(openai_api_key = OPENAI_API_KEY, temperature = 0.7), memory = memory)"
   ]
  },
  {
   "cell_type": "code",
   "execution_count": null,
   "id": "1fad5f3a-7873-4998-8f7b-5a2f99c75755",
   "metadata": {},
   "outputs": [],
   "source": []
  },
  {
   "cell_type": "code",
   "execution_count": null,
   "id": "f374f26b-b68a-4f54-a760-3907f64234a1",
   "metadata": {},
   "outputs": [],
   "source": []
  },
  {
   "cell_type": "code",
   "execution_count": null,
   "id": "197caa21-8fa4-45c5-b5db-dfab9e77f6ca",
   "metadata": {},
   "outputs": [],
   "source": []
  },
  {
   "cell_type": "code",
   "execution_count": null,
   "id": "0a964cc3-fedd-42ca-818a-dec6015203c7",
   "metadata": {},
   "outputs": [],
   "source": []
  },
  {
   "cell_type": "code",
   "execution_count": null,
   "id": "fcbbbab0-04fa-450d-b6b1-19e66be61453",
   "metadata": {},
   "outputs": [],
   "source": []
  },
  {
   "cell_type": "code",
   "execution_count": null,
   "id": "65e08f2a-ad14-4eca-8cdc-28fc8aa0418f",
   "metadata": {},
   "outputs": [],
   "source": []
  },
  {
   "cell_type": "code",
   "execution_count": null,
   "id": "7f82ac0d-013e-4a84-8459-48a0883d646b",
   "metadata": {},
   "outputs": [],
   "source": []
  },
  {
   "cell_type": "code",
   "execution_count": null,
   "id": "9bc153be-d295-4838-a75f-ea8bc5561739",
   "metadata": {},
   "outputs": [],
   "source": []
  },
  {
   "cell_type": "code",
   "execution_count": null,
   "id": "a02eaa5a",
   "metadata": {},
   "outputs": [],
   "source": []
  }
 ],
 "metadata": {
  "kernelspec": {
   "display_name": "Python 3 (ipykernel)",
   "language": "python",
   "name": "python3"
  },
  "language_info": {
   "codemirror_mode": {
    "name": "ipython",
    "version": 3
   },
   "file_extension": ".py",
   "mimetype": "text/x-python",
   "name": "python",
   "nbconvert_exporter": "python",
   "pygments_lexer": "ipython3",
   "version": "3.10.13"
  }
 },
 "nbformat": 4,
 "nbformat_minor": 5
}
