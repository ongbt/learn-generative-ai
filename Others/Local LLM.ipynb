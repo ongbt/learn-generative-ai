{
 "cells": [
  {
   "cell_type": "code",
   "execution_count": null,
   "metadata": {},
   "outputs": [],
   "source": [
    "# https://python.langchain.com/docs/guides/local_llms\n",
    "# ollama pull llama2"
   ]
  },
  {
   "cell_type": "code",
   "execution_count": 6,
   "metadata": {},
   "outputs": [],
   "source": [
    "from langchain.prompts import PromptTemplate\n",
    "from langchain import HuggingFaceHub, LLMChain"
   ]
  },
  {
   "cell_type": "code",
   "execution_count": 10,
   "metadata": {},
   "outputs": [],
   "source": [
    "\n",
    "from langchain.callbacks.manager import CallbackManager\n",
    "from langchain.callbacks.streaming_stdout import StreamingStdOutCallbackHandler"
   ]
  },
  {
   "cell_type": "code",
   "execution_count": 11,
   "metadata": {},
   "outputs": [],
   "source": [
    "from langchain_community.llms import Ollama\n",
    "\n",
    "llm = Ollama(model=\"llama2\", callback_manager=CallbackManager([StreamingStdOutCallbackHandler()]))"
   ]
  },
  {
   "cell_type": "code",
   "execution_count": 4,
   "metadata": {},
   "outputs": [],
   "source": [
    "import os\n",
    "from dotenv import load_dotenv"
   ]
  },
  {
   "cell_type": "code",
   "execution_count": 5,
   "metadata": {},
   "outputs": [
    {
     "data": {
      "text/plain": [
       "True"
      ]
     },
     "execution_count": 5,
     "metadata": {},
     "output_type": "execute_result"
    }
   ],
   "source": [
    "load_dotenv()"
   ]
  },
  {
   "cell_type": "code",
   "execution_count": 7,
   "metadata": {},
   "outputs": [],
   "source": [
    "prompt_template_name = PromptTemplate(\n",
    "    input_variables=['cuisine'],\n",
    "    template=\"I want to open a restaurant for {cuisine}, suggest a good name for it\"\n",
    ")"
   ]
  },
  {
   "cell_type": "code",
   "execution_count": 8,
   "metadata": {},
   "outputs": [],
   "source": [
    "chain = LLMChain(llm=llm, prompt=prompt_template_name)"
   ]
  },
  {
   "cell_type": "code",
   "execution_count": 13,
   "metadata": {},
   "outputs": [
    {
     "data": {
      "text/plain": [
       "{'cuisine': 'India',\n",
       " 'text': ' Sure, I\\'d be happy to help you come up with some ideas for the name of your Indian restaurant! Here are a few suggestions:\\n\\n1. Tandoor Tavern - This name plays off the popular Indian cooking technique known as tandoori cooking, which involves cooking food in a clay oven. The word \"tavern\" suggests a cozy, inviting atmosphere.\\n2. Spice Route - This name references the historic spice trade routes that connected India to other parts of Asia and Europe. It\\'s a clever way to tie in the restaurant\\'s Indian heritage with its global appeal.\\n3. Curry House - Simple and straightforward, this name immediately conveys the type of cuisine the restaurant serves. You could also consider adding \"India\" or \"Mumbai\" to make it more specific.\\n4. Rajasthani Royale - This name highlights the rich cultural heritage of India\\'s Rajasthan region, which is known for its vibrant colors and delicious food. The word \"royale\" adds a touch of elegance and sophistication.\\n5. Mumbai Bazaar - This name evokes the bustling streets of Mumbai (formerly Bombay), India\\'s financial capital and cultural hub. It suggests a lively, energetic atmosphere and could appeal to customers looking for a fun dining experience.\\n6. Taste of India - This name is straightforward and to the point, conveying the restaurant\\'s focus on Indian cuisine. You could also consider adding \"Experience\" or \"Journey\" to emphasize the variety of flavors and cultural influences that customers can expect to encounter.\\n7. Samosa House - This name references one of India\\'s most popular snack foods, which is often served as a complement to meals or as a quick bite on the go. It\\'s a catchy, memorable name that could appeal to customers looking for a fun and casual dining experience.\\n8. Maharaja\\'s Palace - This name conjures up images of luxury and indulgence, evoking the grandiose palaces of India\\'s royal past. The word \"Maharaja\" adds a touch of regal elegance that could appeal to customers looking for an upscale dining experience.\\n9. Biryani Bliss - This name highlights one of India\\'s most popular rice-based dishes, which is known for its rich flavors and complex spice blends. The word \"bliss\" adds a touch of indulgence and pleasure that could appeal to customers looking for a satisfying and enjoyable meal.\\n10. Spicy Soul - This name references the spicy and aromatic flavors that are hallmarks of Indian cuisine. The word \"soul\" suggests a deeper, more emotional connection to the food and culture, which could appeal to customers looking for a more immersive dining experience.\\n\\nI hope these suggestions help inspire you as you choose a name for your Indian restaurant!'}"
      ]
     },
     "execution_count": 13,
     "metadata": {},
     "output_type": "execute_result"
    }
   ],
   "source": [
    "\n",
    "chain.invoke(\"India\")"
   ]
  },
  {
   "cell_type": "code",
   "execution_count": null,
   "metadata": {},
   "outputs": [],
   "source": []
  }
 ],
 "metadata": {
  "kernelspec": {
   "display_name": "learn-generative-ai",
   "language": "python",
   "name": "python3"
  },
  "language_info": {
   "codemirror_mode": {
    "name": "ipython",
    "version": 3
   },
   "file_extension": ".py",
   "mimetype": "text/x-python",
   "name": "python",
   "nbconvert_exporter": "python",
   "pygments_lexer": "ipython3",
   "version": "3.10.14"
  }
 },
 "nbformat": 4,
 "nbformat_minor": 2
}
