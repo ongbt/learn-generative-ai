{
 "cells": [
  {
   "cell_type": "code",
   "execution_count": 14,
   "id": "fd3709c5",
   "metadata": {},
   "outputs": [],
   "source": [
    "# https://www.youtube.com/watch?v=OSR9YUTGcFk&list=PLmQAMKHKeLZ-iTT-E2kK9uePrJ1Xua9VL&index=4&ab_channel=iNeuronIntelligence\n",
    "# check for Cloudflare if api calls fail"
   ]
  },
  {
   "cell_type": "code",
   "execution_count": 15,
   "id": "4c313b43",
   "metadata": {},
   "outputs": [
    {
     "name": "stdout",
     "output_type": "stream",
     "text": [
      "Requirement already satisfied: google_search_results in /opt/anaconda3/envs/learn-generative-ai/lib/python3.10/site-packages (2.4.2)\n",
      "Requirement already satisfied: requests in /opt/anaconda3/envs/learn-generative-ai/lib/python3.10/site-packages (from google_search_results) (2.31.0)\n",
      "Requirement already satisfied: charset-normalizer<4,>=2 in /opt/anaconda3/envs/learn-generative-ai/lib/python3.10/site-packages (from requests->google_search_results) (3.3.2)\n",
      "Requirement already satisfied: idna<4,>=2.5 in /opt/anaconda3/envs/learn-generative-ai/lib/python3.10/site-packages (from requests->google_search_results) (3.6)\n",
      "Requirement already satisfied: urllib3<3,>=1.21.1 in /opt/anaconda3/envs/learn-generative-ai/lib/python3.10/site-packages (from requests->google_search_results) (2.2.1)\n",
      "Requirement already satisfied: certifi>=2017.4.17 in /opt/anaconda3/envs/learn-generative-ai/lib/python3.10/site-packages (from requests->google_search_results) (2024.2.2)\n",
      "Requirement already satisfied: wikipedia in /opt/anaconda3/envs/learn-generative-ai/lib/python3.10/site-packages (1.4.0)\n",
      "Requirement already satisfied: beautifulsoup4 in /opt/anaconda3/envs/learn-generative-ai/lib/python3.10/site-packages (from wikipedia) (4.12.3)\n",
      "Requirement already satisfied: requests<3.0.0,>=2.0.0 in /opt/anaconda3/envs/learn-generative-ai/lib/python3.10/site-packages (from wikipedia) (2.31.0)\n",
      "Requirement already satisfied: charset-normalizer<4,>=2 in /opt/anaconda3/envs/learn-generative-ai/lib/python3.10/site-packages (from requests<3.0.0,>=2.0.0->wikipedia) (3.3.2)\n",
      "Requirement already satisfied: idna<4,>=2.5 in /opt/anaconda3/envs/learn-generative-ai/lib/python3.10/site-packages (from requests<3.0.0,>=2.0.0->wikipedia) (3.6)\n",
      "Requirement already satisfied: urllib3<3,>=1.21.1 in /opt/anaconda3/envs/learn-generative-ai/lib/python3.10/site-packages (from requests<3.0.0,>=2.0.0->wikipedia) (2.2.1)\n",
      "Requirement already satisfied: certifi>=2017.4.17 in /opt/anaconda3/envs/learn-generative-ai/lib/python3.10/site-packages (from requests<3.0.0,>=2.0.0->wikipedia) (2024.2.2)\n",
      "Requirement already satisfied: soupsieve>1.2 in /opt/anaconda3/envs/learn-generative-ai/lib/python3.10/site-packages (from beautifulsoup4->wikipedia) (2.5)\n"
     ]
    }
   ],
   "source": [
    "# !pip install google_search_results\n",
    "# !pip install wikipedia"
   ]
  },
  {
   "cell_type": "code",
   "execution_count": 16,
   "id": "37b7451a",
   "metadata": {},
   "outputs": [],
   "source": [
    "# !pip install langchain-openai"
   ]
  },
  {
   "cell_type": "code",
   "execution_count": 17,
   "id": "dd0e7169",
   "metadata": {},
   "outputs": [],
   "source": [
    "import os\n",
    "from dotenv import load_dotenv\n",
    "load_dotenv()"
   ]
  },
  {
   "cell_type": "code",
   "execution_count": 18,
   "id": "56f1cdf2",
   "metadata": {},
   "outputs": [
    {
     "data": {
      "text/plain": [
       "True"
      ]
     },
     "execution_count": 18,
     "metadata": {},
     "output_type": "execute_result"
    }
   ],
   "source": []
  },
  {
   "cell_type": "code",
   "execution_count": 19,
   "id": "3198ab70",
   "metadata": {},
   "outputs": [],
   "source": [
    "from langchain.agents import AgentType\n",
    "from langchain.agents import load_tools\n",
    "from langchain.agents import initialize_agent\n"
   ]
  },
  {
   "cell_type": "code",
   "execution_count": 20,
   "id": "d1f50469",
   "metadata": {},
   "outputs": [],
   "source": [
    "import langchain"
   ]
  },
  {
   "cell_type": "code",
   "execution_count": 21,
   "id": "d68efc48",
   "metadata": {},
   "outputs": [],
   "source": [
    "OPENAI_API_KEY = os.getenv(\"OPENAI_API_KEY\")\n",
    "SERPAPI_API_KEY = os.getenv(\"SERPAPI_API_KEY\")\n"
   ]
  },
  {
   "cell_type": "code",
   "execution_count": 88,
   "id": "ea051db0",
   "metadata": {},
   "outputs": [],
   "source": [
    "from langchain_openai import ChatOpenAI\n",
    "client = ChatOpenAI(openai_api_key = OPENAI_API_KEY)"
   ]
  },
  {
   "cell_type": "code",
   "execution_count": 89,
   "id": "fa026219",
   "metadata": {},
   "outputs": [],
   "source": [
    "# from langchain_community.chat_models import ChatOpenAI\n",
    "# client = ChatOpenAI(openai_api_key = OPENAI_API_KEY, model_name=\"gpt-3.5-turbo\")"
   ]
  },
  {
   "cell_type": "code",
   "execution_count": 90,
   "id": "ded32668",
   "metadata": {},
   "outputs": [],
   "source": [
    "tools = load_tools([\"serpapi\"], serpapi_api_key = SERPAPI_API_KEY, llm = client)"
   ]
  },
  {
   "cell_type": "code",
   "execution_count": 91,
   "id": "1bb9ff4f",
   "metadata": {},
   "outputs": [],
   "source": [
    "agent = initialize_agent(tools, client, agent = AgentType.ZERO_SHOT_REACT_DESCRIPTION, verbose = True)"
   ]
  },
  {
   "cell_type": "code",
   "execution_count": 25,
   "id": "ca30c4c8",
   "metadata": {},
   "outputs": [
    {
     "name": "stdout",
     "output_type": "stream",
     "text": [
      "\n",
      "\n",
      "\u001b[1m> Entering new AgentExecutor chain...\u001b[0m\n",
      "\u001b[32;1m\u001b[1;3mI should search for the most recent information on the cricket World Cup winner.\n",
      "Action: Search\n",
      "Action Input: \"Cricket World Cup winner 2023\"\u001b[0m\n",
      "Observation: \u001b[36;1m\u001b[1;3m{'title': 'ICC Cricket World Cup', 'thumbnail': 'https://serpapi.com/searches/6606503e7f83616d536ee83c/images/99eda77297c2e223b0125192fd0091f1b160cf17557871591c01c3d9c80b45ba.png', 'games': [{'tournament': 'ICC Cricket World Cup', 'stadium': 'Narendra Modi Stadium', 'date': 'Nov 19, 23', 'teams': [{'name': 'India', 'score': '240 (50)', 'thumbnail': 'https://serpapi.com/searches/6606503e7f83616d536ee83c/images/99eda77297c2e2233b26fb3db9bdca214f3c355a423b80b1898b42f947e4bad00a3ef064bd33e6ed82faf0b100cab697.png'}, {'name': 'Australia', 'score': '241/4 (43)', 'thumbnail': 'https://serpapi.com/searches/6606503e7f83616d536ee83c/images/99eda77297c2e2233b26fb3db9bdca214f3c355a423b80b1e53e5d179830923d9c60251aef0c36acd1d611365c8bcfc3.png'}], 'status': 'AUS won by 6 wickets (42 balls left)'}, {'tournament': 'ICC Cricket World Cup', 'stadium': 'Eden Gardens', 'date': 'Nov 16, 23', 'teams': [{'name': 'South Africa', 'score': '212 (49.4)', 'thumbnail': 'https://serpapi.com/searches/6606503e7f83616d536ee83c/images/99eda77297c2e2233b26fb3db9bdca21aad1d68b7bdd7e6e2a1d8f0f869182b18b3f017115b3a18d0e13a4b8c9ea0b43.png'}, {'name': 'Australia', 'score': '215/7 (47.2)', 'thumbnail': 'https://serpapi.com/searches/6606503e7f83616d536ee83c/images/99eda77297c2e2233b26fb3db9bdca21aad1d68b7bdd7e6ee68991128aaecf6bd7216703d22cf5a11414f24f96b61706.png'}], 'status': 'AUS won by 3 wickets (16 balls left)'}, {'tournament': 'ICC Cricket World Cup', 'stadium': 'Wankhede Stadium', 'date': 'Nov 15, 23', 'teams': [{'name': 'India', 'score': '397/4 (50)', 'thumbnail': 'https://serpapi.com/searches/6606503e7f83616d536ee83c/images/99eda77297c2e2233b26fb3db9bdca218524c515e9894907aced1d999e39e4582674ac1d1133c503e0bff29af4607083.png'}, {'name': 'New Zealand', 'score': '327 (48.5)', 'thumbnail': 'https://serpapi.com/searches/6606503e7f83616d536ee83c/images/99eda77297c2e2233b26fb3db9bdca218524c515e9894907143de273683d85313fa0d309b09a4a7b73dc578f840325c5.png'}], 'status': 'IND won by 70 runs'}, {'tournament': 'ICC Cricket World Cup', 'stadium': 'M. Chinnaswamy Stadium', 'date': 'Nov 12, 23', 'teams': [{'name': 'India', 'score': '410/4 (50)', 'thumbnail': 'https://serpapi.com/searches/6606503e7f83616d536ee83c/images/99eda77297c2e2233b26fb3db9bdca2185b52e15160a0a70beb21bea664abb03bd9b84abea2eea373fc77caea27618e9.png'}, {'name': 'Netherlands', 'score': '250 (47.5)', 'thumbnail': 'https://serpapi.com/searches/6606503e7f83616d536ee83c/images/99eda77297c2e2233b26fb3db9bdca2185b52e15160a0a70acfcd2b7d5b3eac45d32498dcefe407afe56258d1bb511bd.png'}], 'status': 'IND won by 160 runs'}, {'tournament': 'ICC Cricket World Cup', 'stadium': 'Eden Gardens', 'date': 'Nov 11, 23', 'teams': [{'name': 'England', 'score': '337/9 (50)', 'thumbnail': 'https://serpapi.com/searches/6606503e7f83616d536ee83c/images/99eda77297c2e2233b26fb3db9bdca21c01bff343794aed634e9858c47259efdc9ecfa8564ac216a00953ebfde92d4bc.png'}, {'name': 'Pakistan', 'score': '244 (43.3)', 'thumbnail': 'https://serpapi.com/searches/6606503e7f83616d536ee83c/images/99eda77297c2e2233b26fb3db9bdca21c01bff343794aed6c6525237ad9f8f28329052016fed6d1fea21c67ef4306ab2.png'}], 'status': 'ENG won by 93 runs'}, {'tournament': 'ICC Cricket World Cup', 'stadium': 'Maharashtra Cricket Association Stadium', 'date': 'Nov 11, 23', 'teams': [{'name': 'Bangladesh', 'score': '306/8 (50)', 'thumbnail': 'https://serpapi.com/searches/6606503e7f83616d536ee83c/images/99eda77297c2e2233b26fb3db9bdca21ea8fee78284c925ab30f010055d76bb3d065a917f4ff4cdc03cca5d98dc74d4a.png'}, {'name': 'Australia', 'score': '307/2 (44.4)', 'thumbnail': 'https://serpapi.com/searches/6606503e7f83616d536ee83c/images/99eda77297c2e2233b26fb3db9bdca21ea8fee78284c925a40b59faa04eba1c200d01be89136de86f4698ccd3186279c.png'}], 'status': 'AUS won by 8 wickets (32 balls left)'}]}\u001b[0m\n",
      "Thought:\u001b[32;1m\u001b[1;3mI should check the most recent game of the Cricket World Cup to determine the winner.\n",
      "Action: Search\n",
      "Action Input: \"Cricket World Cup 2023 final match result\"\u001b[0m\n",
      "Observation: \u001b[36;1m\u001b[1;3m['Series result, Australia won the 2023/24 ICC Cricket World Cup ; Match number, ODI no. 4705 ; Hours of play (local time), 14.00 start, First Session 14.00-17.30, ...', 'In the final, Australia defeated India to win a record-extending sixth World Cup title.', 'Cricket World Cup 2023: Australia beat India in final for their sixth title. Travis Head scored a century to guide Australia to a six-wicket ...', 'India vs Australia, Final - Live Cricket Score, Commentary ; David Warner. 16-1. 1.1 ; Mitchell Marsh. 41-2. 4.3 ; Steven Smith. 47-3. 6.6 ; Travis Head. 239-4.', 'Australia stun hosts India by six wickets to win their sixth Cricket World Cup at the Narendra Modi Stadium in Ahmedabad, with opener Travis ...', 'Find ICC Cricket World Cup, 2023/24 team match results records and stats on ESPNcricinfo. Check team match results stats of ICC Cricket World Cup, 2023/24.', 'November 19 - Final: Australia beat India by six wickets | Report ; November 15 - First semi-final: India beat New Zealand by 70 runs | Report.', 'World Cup 2023 results for domestic cricket and international cricket match result scores, reports & scorecards.', 'ICC World Cup 2023: Catch the Live Cricket Score of India vs Australia, Match Result, Scorecard Updates, Match Summary and Report at The Indian Express.']\u001b[0m\n",
      "Thought:\u001b[32;1m\u001b[1;3mI now know the final answer\n",
      "Final Answer: Australia won the Cricket World Cup in 2023.\u001b[0m\n",
      "\n",
      "\u001b[1m> Finished chain.\u001b[0m\n"
     ]
    },
    {
     "data": {
      "text/plain": [
       "{'input': 'Can you tell who won the cricket worldcup',\n",
       " 'output': 'Australia won the Cricket World Cup in 2023.'}"
      ]
     },
     "execution_count": 25,
     "metadata": {},
     "output_type": "execute_result"
    }
   ],
   "source": [
    "agent.invoke(\"Can you tell who won the cricket worldcup\")"
   ]
  },
  {
   "cell_type": "code",
   "execution_count": 27,
   "id": "22fa050b-2897-4a27-8d88-bf32dce23114",
   "metadata": {},
   "outputs": [
    {
     "name": "stderr",
     "output_type": "stream",
     "text": [
      "/opt/anaconda3/envs/learn-generative-ai/lib/python3.10/site-packages/langchain_core/_api/deprecation.py:117: LangChainDeprecationWarning: The function `run` was deprecated in LangChain 0.1.0 and will be removed in 0.2.0. Use invoke instead.\n",
      "  warn_deprecated(\n"
     ]
    },
    {
     "name": "stdout",
     "output_type": "stream",
     "text": [
      "\n",
      "\n",
      "\u001b[1m> Entering new AgentExecutor chain...\u001b[0m\n",
      "\u001b[32;1m\u001b[1;3mI should search for the current GDP of the USA.\n",
      "Action: Search\n",
      "Action Input: USA current GDP\u001b[0m\n",
      "Observation: \u001b[36;1m\u001b[1;3m[\"The U.S. is a country of 50 states covering a vast swath of North America, with Alaska in the northwest and Hawaii extending the nation’s presence into the Pacific Ocean. Major Atlantic Coast cities are New York, a global finance and culture center, and capital Washington, DC. Midwestern metropolis Chicago is known for influential architecture and on the west coast, Los Angeles' Hollywood is famed for filmmaking. ― Google\", 'United States type: Country in North America.', 'United States entity_type: countries, locations, travel, competitions, military, travel.', 'United States kgmid: /m/09c7w0.', 'United States place_id: ChIJCzYy5IS16lQRQrfeQ5K5Oxw.', 'Real gross domestic product (GDP) increased at an annual rate of 3.4 percent in the fourth quarter of 2023, according to the “third” estimate.', 'Micronesia, Fed. Sts. 2022. 424.00. Moldova. 2022. 14,508.33.', 'Current-dollar GDP increased 6.3 percent, or $1.61 trillion, in 2023 to a level of $27.36 trillion, compared with an increase of 9.1 percent, or ...', 'Real GDP growth. Annual percent change. 1.5 ; GDP, current prices. Billions of U.S. dollars. 27.97 ; GDP per capita, current prices. U.S. dollars per capita.', 'View economic output, reported as the nominal value of all new goods and services produced by labor and property located in the U.S..', 'GDP in the United States is expected to reach 27780.00 USD Billion by the end of 2024, according to Trading Economics global macro models and analysts ...', 'US GDP is at a current level of 27.94T, up from 27.61T last quarter and up from 26.41T one year ago. This is a change of 1.21% from last quarter and 5.82% ...', '$27.97 trillion (nominal; 2024 est.) $27.97 trillion (PPP; 2024 est.) GDP rank.', 'U.S. gdp for 2019 was $21,380.98B, a 4.13% increase from 2018. Download Historical Data Save as Image ...']\u001b[0m\n",
      "Thought:\u001b[32;1m\u001b[1;3mThe current GDP of the USA is $27.97 trillion\n",
      "Final Answer: The current GDP of the USA is $27.97 trillion\u001b[0m\n",
      "\n",
      "\u001b[1m> Finished chain.\u001b[0m\n"
     ]
    },
    {
     "data": {
      "text/plain": [
       "'The current GDP of the USA is $27.97 trillion'"
      ]
     },
     "execution_count": 27,
     "metadata": {},
     "output_type": "execute_result"
    }
   ],
   "source": [
    "agent.run(\"what is the current GDP of USA\")"
   ]
  },
  {
   "cell_type": "code",
   "execution_count": 28,
   "id": "31077641-6d30-4fab-bea6-ac2fcf5fb355",
   "metadata": {},
   "outputs": [
    {
     "name": "stdout",
     "output_type": "stream",
     "text": [
      "\n",
      "\n",
      "\u001b[1m> Entering new AgentExecutor chain...\u001b[0m\n",
      "\u001b[32;1m\u001b[1;3mI should search for the current GDP of China to find the most up-to-date information\n",
      "Action: Search\n",
      "Action Input: China current GDP\u001b[0m\n",
      "Observation: \u001b[36;1m\u001b[1;3m[\"China, officially the People's Republic of China, is a country in East Asia. With a population exceeding 1.4 billion, it is the world's second-most populous country. China spans the equivalent of five time zones and borders fourteen countries by land.\", 'China type: Country in East Asia.', 'China entity_type: countries, locations, travel, competitions, military, travel.', 'China kgmid: /m/0d05w3.', 'Egypt, Arab Rep. 2022. 476,747.72. El Salvador. 2022. 32,488.72.', 'Real GDP growth. Annual percent change. 4.2 ; GDP, current prices. Billions of U.S. dollars. 18.56 ; GDP per capita, current prices. U.S. dollars per capita.', '$35.032 trillion (PPP; 2024 est.) GDP rank. 2nd (nominal; 2023) · 1st (PPP; 2023).', 'Micronesia, Fed. Sts. 2022. 424.00. Moldova. 2022. 14,508.33.', 'Since 1990, China has averaged breakneck GDP growth of just over 9 percent per year, at times peaking at over 14 percent. This is considerably faster than the ...', 'GDP in China is expected to reach 18825.00 USD Billion by the end of 2024, according to Trading Economics global macro models and analysts expectations. In the ...', '2024 Projected Real GDP (% Change) : 4.6* ; Country Population: 1,410.776 million ; Date of Membership: December 27, 1945 ; Article IV/Country Report: February 3, ...', 'GDP: RMB 126.06 trillion (US$17.52 trillion); +5.2% y/y; Retail sales: RMB 47.15 trillion (US$6.55 trillion); +7.2%; Industrial added value*: + ...', 'For 2024, the IMF expects a GDP growth rate of around 4.6 percent. Real GDP growth. The current gross domestic product is an important indicator ...', 'China gdp for 2019 was $14,279.97B, a 2.77% increase from 2018. Download Historical Data Save as Image ...']\u001b[0m\n",
      "Thought:\u001b[32;1m\u001b[1;3mI need to find the specific information about the current GDP of China in the search results\n",
      "Action: Search\n",
      "Action Input: China current GDP 2024\u001b[0m\n",
      "Observation: \u001b[36;1m\u001b[1;3mYet, to put things in perspective, China's real GDP growth rate from 2011 to 2019 averaged 7.3 percent while 2001-10 saw average growth of 10.5 percent. China's recently announced GDP target for 2024 remains unchanged from last year, at 5 percent.\u001b[0m\n",
      "Thought:\u001b[32;1m\u001b[1;3mI now know the final answer\n",
      "Final Answer: The current GDP of China in 2024 is expected to reach 18825.00 USD Billion.\u001b[0m\n",
      "\n",
      "\u001b[1m> Finished chain.\u001b[0m\n"
     ]
    },
    {
     "data": {
      "text/plain": [
       "'The current GDP of China in 2024 is expected to reach 18825.00 USD Billion.'"
      ]
     },
     "execution_count": 28,
     "metadata": {},
     "output_type": "execute_result"
    }
   ],
   "source": [
    "agent.run(\"what is the current GDP of China\")"
   ]
  },
  {
   "cell_type": "markdown",
   "id": "5e9e3484",
   "metadata": {},
   "source": [
    "# Chaining"
   ]
  },
  {
   "cell_type": "code",
   "execution_count": 29,
   "id": "09b01b36",
   "metadata": {},
   "outputs": [],
   "source": [
    "from langchain.prompts import PromptTemplate"
   ]
  },
  {
   "cell_type": "code",
   "execution_count": 30,
   "id": "19570f77-cd5f-4e4a-8c09-2dc26ac161b1",
   "metadata": {},
   "outputs": [],
   "source": [
    "promptTemplate = PromptTemplate.from_template(\"What is a good name for a company that makes {product}\")"
   ]
  },
  {
   "cell_type": "code",
   "execution_count": 31,
   "id": "c8203d66",
   "metadata": {},
   "outputs": [],
   "source": [
    "from langchain.chains import LLMChain "
   ]
  },
  {
   "cell_type": "code",
   "execution_count": 32,
   "id": "3828f17b",
   "metadata": {},
   "outputs": [],
   "source": [
    "chain = LLMChain(llm = client, prompt = promptTemplate)"
   ]
  },
  {
   "cell_type": "code",
   "execution_count": 33,
   "id": "4565fb36-9c57-4ed7-ab4c-162ec8c4e322",
   "metadata": {},
   "outputs": [
    {
     "data": {
      "text/plain": [
       "'VineCrafters'"
      ]
     },
     "execution_count": 33,
     "metadata": {},
     "output_type": "execute_result"
    }
   ],
   "source": [
    "chain.run(\"Wine\")"
   ]
  },
  {
   "cell_type": "code",
   "execution_count": 34,
   "id": "3373e6e2",
   "metadata": {},
   "outputs": [],
   "source": [
    "name_prompt_template = PromptTemplate(\n",
    "    input_variables = ['cuisine'],\n",
    "    template = \"I want to open a restaurant for {cuisine}, suggest a good name for it\"\n",
    ")"
   ]
  },
  {
   "cell_type": "code",
   "execution_count": 35,
   "id": "330d56e6-adb5-4c16-81ae-e3e0fb9824e9",
   "metadata": {},
   "outputs": [],
   "source": [
    "name_chain = LLMChain(llm = client, prompt = name_prompt_template,verbose = True,\n",
    "    output_key = \"restaurant_name\")"
   ]
  },
  {
   "cell_type": "code",
   "execution_count": 36,
   "id": "954db68d-74bb-49e0-b46d-4231a0b44cca",
   "metadata": {},
   "outputs": [
    {
     "name": "stderr",
     "output_type": "stream",
     "text": [
      "/opt/anaconda3/envs/learn-generative-ai/lib/python3.10/site-packages/langchain_core/_api/deprecation.py:117: LangChainDeprecationWarning: The function `__call__` was deprecated in LangChain 0.1.0 and will be removed in 0.2.0. Use invoke instead.\n",
      "  warn_deprecated(\n"
     ]
    },
    {
     "name": "stdout",
     "output_type": "stream",
     "text": [
      "\n",
      "\n",
      "\u001b[1m> Entering new LLMChain chain...\u001b[0m\n",
      "Prompt after formatting:\n",
      "\u001b[32;1m\u001b[1;3mI want to open a restaurant for Chinese, suggest a good name for it\u001b[0m\n",
      "\n",
      "\u001b[1m> Finished chain.\u001b[0m\n"
     ]
    },
    {
     "data": {
      "text/plain": [
       "{'cuisine': 'Chinese',\n",
       " 'restaurant_name': '1. Dragon Delights\\n2. Panda Palace\\n3. Golden Wok\\n4. Great Wall Bistro\\n5. Red Lantern Restaurant\\n6. Dynasty Dining\\n7. Lotus Garden\\n8. Silk Road Kitchen\\n9. Phoenix Fusion\\n10. Bamboo Garden Restaurant'}"
      ]
     },
     "execution_count": 36,
     "metadata": {},
     "output_type": "execute_result"
    }
   ],
   "source": [
    "name_chain({\"cuisine\":\"Chinese\"})"
   ]
  },
  {
   "cell_type": "code",
   "execution_count": 37,
   "id": "a16d3d85-626e-46f5-8457-ef0340c8758d",
   "metadata": {},
   "outputs": [],
   "source": [
    "strategy_prompt_template = PromptTemplate(\n",
    "    input_variables = ['restaurant_name'],\n",
    "    template = \"Suggest some strategies for {restaurant_name}\"\n",
    ")"
   ]
  },
  {
   "cell_type": "code",
   "execution_count": 38,
   "id": "74f7ad4e-dc08-4de3-be3b-09fae4bcbc30",
   "metadata": {},
   "outputs": [],
   "source": [
    "strategy_chain = LLMChain(llm = client, prompt = strategy_prompt_template,verbose = True,\n",
    "    output_key = \"restaurant_strategy\")"
   ]
  },
  {
   "cell_type": "code",
   "execution_count": 39,
   "id": "81c6ee8c-2d86-4647-9324-8326549d600e",
   "metadata": {},
   "outputs": [],
   "source": [
    "from langchain.chains import SimpleSequentialChain, SequentialChain"
   ]
  },
  {
   "cell_type": "code",
   "execution_count": 40,
   "id": "9ba6d590-32df-4c28-bafd-f546985ccb0d",
   "metadata": {},
   "outputs": [],
   "source": [
    "combined_chain = SequentialChain(chains = [name_chain, strategy_chain],\n",
    "    input_variables = ['cuisine'],    \n",
    "    output_variables = ['restaurant_name', 'restaurant_strategy'])"
   ]
  },
  {
   "cell_type": "code",
   "execution_count": 41,
   "id": "b7f15452-491d-4a93-b0fa-2d002f0fd57f",
   "metadata": {},
   "outputs": [],
   "source": [
    "# print(combined_chain.run(\"Chinese\"))"
   ]
  },
  {
   "cell_type": "code",
   "execution_count": 42,
   "id": "d2a3b1c7-d346-40d2-a0d3-8a0f85ae3684",
   "metadata": {},
   "outputs": [
    {
     "name": "stdout",
     "output_type": "stream",
     "text": [
      "\n",
      "\n",
      "\u001b[1m> Entering new LLMChain chain...\u001b[0m\n",
      "Prompt after formatting:\n",
      "\u001b[32;1m\u001b[1;3mI want to open a restaurant for Chinese, suggest a good name for it\u001b[0m\n",
      "\n",
      "\u001b[1m> Finished chain.\u001b[0m\n",
      "\n",
      "\n",
      "\u001b[1m> Entering new LLMChain chain...\u001b[0m\n",
      "Prompt after formatting:\n",
      "\u001b[32;1m\u001b[1;3mSuggest some strategies for \"The Dragon's Wok\"\u001b[0m\n",
      "\n",
      "\u001b[1m> Finished chain.\u001b[0m\n"
     ]
    }
   ],
   "source": [
    "result = combined_chain({\"cuisine\":\"Chinese\"})"
   ]
  },
  {
   "cell_type": "code",
   "execution_count": 43,
   "id": "20857b6a-7cd3-44d5-9df3-bef6f745e282",
   "metadata": {},
   "outputs": [
    {
     "data": {
      "text/plain": [
       "dict"
      ]
     },
     "execution_count": 43,
     "metadata": {},
     "output_type": "execute_result"
    }
   ],
   "source": [
    "type(result)"
   ]
  },
  {
   "cell_type": "code",
   "execution_count": 44,
   "id": "ad98d74a-a044-4242-8a58-0237f05cc8ee",
   "metadata": {},
   "outputs": [
    {
     "name": "stdout",
     "output_type": "stream",
     "text": [
      "{'cuisine': 'Chinese', 'restaurant_name': '\"The Dragon\\'s Wok\"', 'restaurant_strategy': \"1. Develop a strong branding strategy - Create a memorable logo, consistent color scheme, and unique menu offerings to set The Dragon's Wok apart from competitors.\\n\\n2. Offer a diverse menu with a focus on Asian-inspired dishes - Include a variety of traditional and fusion dishes to appeal to a wide range of customers.\\n\\n3. Implement a strong social media presence - Utilize platforms like Instagram and Facebook to showcase menu items, promote special promotions, and engage with customers.\\n\\n4. Partner with local businesses and events - Collaborate with nearby businesses or sponsor community events to increase visibility and attract new customers.\\n\\n5. Provide excellent customer service - Train staff to provide friendly and efficient service, and encourage feedback from customers to continuously improve operations.\\n\\n6. Offer online ordering and delivery services - Make it easy for customers to order their favorite dishes for pickup or delivery, and consider partnering with popular delivery apps for increased visibility.\\n\\n7. Host special events or themed nights - Create buzz around The Dragon's Wok by hosting events like sushi-making classes, karaoke nights, or themed dinner parties.\\n\\n8. Implement a loyalty program - Reward repeat customers with discounts, freebies, or special offers to keep them coming back for more.\"}\n"
     ]
    }
   ],
   "source": [
    "print(result)"
   ]
  },
  {
   "cell_type": "markdown",
   "id": "f061e3d1-2c5d-4668-a32b-5a68549d6b52",
   "metadata": {},
   "source": [
    "##Document Loader"
   ]
  },
  {
   "cell_type": "code",
   "execution_count": 45,
   "id": "301bf9ef-e0e0-4bd6-bf5a-2cb632fa57de",
   "metadata": {},
   "outputs": [
    {
     "name": "stderr",
     "output_type": "stream",
     "text": [
      "419.32s - pydevd: Sending message related to process being replaced timed-out after 5 seconds\n"
     ]
    },
    {
     "name": "stdout",
     "output_type": "stream",
     "text": [
      "Collecting pypdf\n",
      "  Using cached pypdf-4.1.0-py3-none-any.whl.metadata (7.4 kB)\n",
      "Using cached pypdf-4.1.0-py3-none-any.whl (286 kB)\n",
      "Installing collected packages: pypdf\n",
      "Successfully installed pypdf-4.1.0\n"
     ]
    }
   ],
   "source": [
    "# !pip install pypdf"
   ]
  },
  {
   "cell_type": "code",
   "execution_count": 46,
   "id": "e232888d-0107-47eb-9410-1ebbda7c2d41",
   "metadata": {},
   "outputs": [],
   "source": [
    "from langchain.document_loaders import PyPDFLoader"
   ]
  },
  {
   "cell_type": "code",
   "execution_count": 47,
   "id": "a62786ca-16d0-49ed-be6f-1c327adaa79a",
   "metadata": {},
   "outputs": [],
   "source": [
    "loader = PyPDFLoader(\"/Users/ongbt/Personal/Learn/learn-generative-ai/withsecure-cloud-protection-salesforce-solution-overview-en.pdf\")"
   ]
  },
  {
   "cell_type": "code",
   "execution_count": 48,
   "id": "9449085f-a754-48a9-b3a0-16f7c9199078",
   "metadata": {},
   "outputs": [],
   "source": [
    "pages = loader.load_and_split()"
   ]
  },
  {
   "cell_type": "code",
   "execution_count": 49,
   "id": "0079f184-e1fc-4f32-976d-c2ff7bb758f6",
   "metadata": {},
   "outputs": [
    {
     "data": {
      "text/plain": [
       "[Document(page_content='WithSecuretm  \\nCloud Protection  \\nfor SalesforceSolution overview', metadata={'source': '/Users/ongbt/Personal/Learn/learn-generative-ai/withsecure-cloud-protection-salesforce-solution-overview-en.pdf', 'page': 0}),\n",
       " Document(page_content='DISCLAIMER: This document is intended to give a high-level overview of the WithSecure™ solu-\\ntion and its security components. Details are omitted in order to prevent targeted attacks against \\nour solutions. WithSecure™ is constantly improving its services and reserves the right to modify \\nfeatures or functionality of the software in accordance to its product life cycle practices.Contents\\n1. Executive overview  ............................................................ 3\\n2. WithSecure™ corporation  .................................................. 4\\n3. Shared responsibility model  ............................................... 5\\n4. Solution overview  ............................................................... 7\\n4.1 Function diagram  ......................................................... 8\\n4.2 File protection  ............................................................ 10\\n4.3 URL protection  ........................................................... 12\\n4.4 Email protection  ......................................................... 13\\n4.5 Management  .............................................................. 13\\n5. WithSecure™ Security Cloud  ........................................... 16\\n5.1 Threat intelligence service  ......................................... 17\\n5.2 Multi-engine anti-virus  ............................................... 17\\n5.3 Smart cloud sandbox  ................................................. 172\\nWithSecure™ Cloud Protection for Salesforce', metadata={'source': '/Users/ongbt/Personal/Learn/learn-generative-ai/withsecure-cloud-protection-salesforce-solution-overview-en.pdf', 'page': 1}),\n",
       " Document(page_content='1. Executive overview\\nWithSecure™ Cloud Protection for Salesforce is a cloud-\\nbased security solution designed to complement the native \\nsecurity capabilities of the Salesforce platforms. \\nTogether with Salesforce, we make it easier for companies to \\nhandle their part of security under the Shared Responsibility \\nmodel used in cloud ecosystems. WithSecure™ Cloud Protec-\\ntion is an excellent choice for complementing overall security \\ncapabilities, and for ensuring that the company security strate-\\ngy also extends to cloud services. \\nWithSecure™ Cloud Protection for Salesforce provides \\ndedicated security components that mitigate the risks posed \\nby files, URLs and emails handled by Salesforce platform \\nusers, without hindering the use of Salesforce. The solution \\nalso provides rich reporting, advanced security analytics, and \\nfull audit trails, ensuring that incident response is fast and \\nefficient. Thanks to native cloud-to-cloud integration between Sales-\\nforce and WithSecure™, Cloud Protection is an optimal choice \\nfrom both security and resourcing perspectives. \\nFirst, there is no need to expend resources on deploying or \\nmaintaining middleware, such as servers or proxies, or modify-\\ning network configurations. \\nFurthermore, Salesforce uses HTTPS encryption in all their \\ncommunications, which means solutions using proxies, like \\ntraditional Cloud access security brokers (CASBs), would \\nhave to break the encryption midway , making the system less \\nsecure and much more prone to vulnerabilities. \\nFinally , tight integration enables streamlined deployment via \\nSalesforce AppExchange. The deployment takes only a few \\nminutes, eliminating the need for expensive, time intensive  \\nIT work.To summarize, WithSecureTM Cloud Protection \\nfor Salesforce offers the following benefits:\\nAdvanced Threat Protection\\n• High-fidelity detections of known and unknown malware\\n• Protection against phishing links\\n• Powered by multi-stage content analysis, real-time threat intelli-\\ngence, AI, and sandboxing\\nReal-time protection and visibility\\n• Automated scanning on upload and download\\n• Flexible on-demand and scheduled scans\\n• Click-time URL protection against dormant and mutating cyber \\nthreats\\n• Real-time visibility with full forensics trail for threat hunting\\nClick-and-go security – made with Salesforce\\n• Natively integrated, purpose-built in close collaboration with \\nSalesforce\\n• No single point of failure, no additional middleware, connectors, \\nconfiguration hassle, or additional hosting costs\\n• Up and running in minutes giving you instant value\\nWithSecure™ Cloud Protection for Salesforce3', metadata={'source': '/Users/ongbt/Personal/Learn/learn-generative-ai/withsecure-cloud-protection-salesforce-solution-overview-en.pdf', 'page': 2}),\n",
       " Document(page_content='2. WithSecuretm corporation\\nWithSecure™, formerly F-Secure Business, is cyber security’s reliable partner . \\nIT service providers, MSSPs and businesses – along with the largest financial \\ninstitutions, manufacturers, and thousands of the world’s most advanced \\ncommunications and technology providers – trust us for outcome-based cyber \\nsecurity that protects and enables their operations. Our AI-driven protection \\nsecures endpoints and cloud collaboration, and our intelligent detection and \\nresponse are powered by experts who identify business risks by proactively \\nhunting for threats and confronting live attacks. Our consultants partner with \\nenterprises and tech challengers to build resilience through evidence-based \\nsecurity advice. With more than 30 years of experience in building technology \\nthat meets business objectives, we’ve built our portfolio to grow with our part-\\nners through flexible commercial models.\\nFounded in 1988, WithSecure™ is listed on the NASDAQ OMX Helsinki Ltd.\\nWithSecure™ Cloud Protection for Salesforce4', metadata={'source': '/Users/ongbt/Personal/Learn/learn-generative-ai/withsecure-cloud-protection-salesforce-solution-overview-en.pdf', 'page': 3}),\n",
       " Document(page_content='3. Shared responsibility model\\nIn cloud ecosystems, cloud service providers and their customers typically share \\nresponsibility when it comes to security . \\nSalesforce, for example, covers various aspects of system and application level \\nsecurity such as authentication, rules, user permissions and roles.\\nIt is every organization’s responsibility to secure files and links uploaded to Sales-\\nforce platforms by their users. However , organizations cannot guarantee identity \\nand access control measures, overall security level, nor the safety of content \\nused and shared in Salesforce clouds by external users such as partners or \\ncustomers.\\nFurthermore, as many organizations provide direct access for cloud applications \\nthrough their firewalls and other network security functions, protection against \\nmalware, ransomware and malicious links is often left solely to endpoints.\\nWithSecure™ Cloud Protection for Salesforce5', metadata={'source': '/Users/ongbt/Personal/Learn/learn-generative-ai/withsecure-cloud-protection-salesforce-solution-overview-en.pdf', 'page': 4}),\n",
       " Document(page_content='Consequently, it is necessary to provide \\nadditional security measures to mitigate  \\nthis risk.\\nFor example, organizations need to:\\n• Prevent targeted attacks through their Service/Customer Care \\nteams utilizing Salesforce’s Service Cloud. \\n• Prevent sharing of unwanted or malicious content such as \\npornography or ransomware in the organization’s Community \\nCloud, which will reflect negatively on the organization, as it was \\ntheir platform that was used to distribute the content and malware \\nin the eyes of community users.\\n• Prevent malware from propagation within the organization though \\nmalicious attachments shared, for example, in the Sales Cloud or \\nChatter .\\nWithSecure™ Cloud Protection for Salesforce has been \\nspecially designed to prevent such risks. It complements \\nnative Salesforce security capabilities with dedicated security \\ncomponents that allow organizations to handle their part of \\nsecurity , as dictated by the Shared Responsibility model used \\nin cloud ecosystems.+Salesforce cloud\\nApplication services\\nNetwork Services\\nInfrastructure ServicesIdentity & Single Sign On Password Policies Two Factor Authentication User Roles & Permissions Field & Row Level Security\\nHTTPS EncryptionHTTPS Encryption\\nPenetration TestingPenetration Testing\\nAdvanced Threat DetectionAdvanced Threat Detection\\nSecure FirewallsSecure Firewalls\\nIP Login RestrictionsIP Login Restrictions\\nWithSecuretm Cloud Protection\\nThreat Intelligence Service Multi-Engine Antivirus Smart Cloud Sandboxing Reporting and Auditing Service Security Analytics ServiceContent: File and Link Protection\\nWithSecure™ Cloud Protection for Salesforce6', metadata={'source': '/Users/ongbt/Personal/Learn/learn-generative-ai/withsecure-cloud-protection-salesforce-solution-overview-en.pdf', 'page': 5}),\n",
       " Document(page_content='4. Solution overview\\nWithSecure™ Cloud Protection for Salesforce is a cloudbased security solution \\ndesigned to complement the native security capabilities of the Salesforce plat-\\nforms. It provides dedicated security components that mitigate the risks posed \\nby files and URLs uploaded by users.\\nThe solution supports most of Salesforce Clouds, including but not limited; \\nSales Cloud, Community Cloud and Service Cloud. It supports the following \\nSalesforce editions: Professional, Enterprise, Unlimited and Developer .\\nWithSecure™ Cloud Protection for Salesforce has been designed and devel-\\noped in close cooperation with Salesforce in order to ensure maximum compat-\\nibility and reliability in their various clouds. \\nThe solution utilizes cloud-to-cloud architecture, so there is no need to deploy \\nor maintain middleware like proxies, or to implement additional network config-\\nurations. Together with the streamlined AppExchange deployment process.\\nWithSecure™ Cloud Protection for Salesforce7', metadata={'source': '/Users/ongbt/Personal/Learn/learn-generative-ai/withsecure-cloud-protection-salesforce-solution-overview-en.pdf', 'page': 6}),\n",
       " Document(page_content='4.1 Function Diagram  \\n4.1.1 File, URL or Email\\nWithSecure™ Cloud Protection constantly monitors all files, \\nlinks and emails used via Salesforce platforms.\\n4.1.2 Salesforce Cloud\\nWhenever an end-user makes use of, uploads or downloads \\ncontent via Salesforce, the traffic is intercepted and subject-\\ned to a patented threat analysis and detection process in \\nthe WithSecure™ Security Cloud. The user experience is of \\nthe utmost importance for our customers, so the solution is \\ndesigned to minimize user delays and complement the inher-\\nent usability of Salesforce.\\n4.1.3 WithSecure™ Security Cloud\\nWithSecure™ Security Cloud employs multi-stage content \\nanalysis in a stepped process triggered by the risk profile of the \\ncontent. Additionally, files found to be high-risk are subjected \\nto a deeper analysis with our Smart Cloud Sandboxing tech-\\nnology , which is designed to prevent zero-day malware attacks \\nand other advanced threats.4.1.4 Detect\\nContent detected as harmful or disallowed, is automatically \\ndeleted or blocked, the end-user is notified that content was \\nblocked, advised on what to do next, and further access is \\nprevented. Security alert is sent to the solution administrator \\nand the security team. Disallowed content is defined with a \\ncontent filtering policy by file type or extension. As an example, \\nadministrator can choose to block all executables such as \\n.com, .exe, .bin, and .bat files.\\n4.1.5 Respond\\nThanks to rich reporting, advanced security analytics and \\nfull audit trails, responding to threats is easy for system \\nadministrators, whether responding to an attack taking place \\nthrough Salesforce, or investigating an attack coming from an \\nunknown source.\\nWithSecure™ Cloud Protection for Salesforce8', metadata={'source': '/Users/ongbt/Personal/Learn/learn-generative-ai/withsecure-cloud-protection-salesforce-solution-overview-en.pdf', 'page': 7}),\n",
       " Document(page_content='WithSecureTM \\nSecurity Cloud\\nFile, url or email Salesforce cloud Detect Respond\\nThreat intelligence \\ncheck\\nSmart cloud \\nsandboxMulti-engine \\nantivirus\\nBelow is a high-level overview of the process by which the solution \\nprovides complementary security for Salesforce clouds.\\nWithSecure™ Cloud Protection for Salesforce9', metadata={'source': '/Users/ongbt/Personal/Learn/learn-generative-ai/withsecure-cloud-protection-salesforce-solution-overview-en.pdf', 'page': 8}),\n",
       " Document(page_content='4.2 File Protection\\nWithSecure™ Cloud Protection utilizes a proprietary , multi-lay-\\nered security platform to detect and prevent viruses, trojans, \\nransomware and other advanced malware. It offers far superior \\nprotection compared to traditional technologies:\\nOur patented scanning logic ensures a transparent threat \\ndetection process when users upload and download files, \\nthanks to seamless integration with Salesforce platforms.\\n4.2.1 Upload Protection\\nWhenever a user uploads a file to Chatter , Salesforce \\nFiles or Attachments, a multi-layered background analysis \\nprocess begins:Initial Analysis \\nA checksum (SHA1) of the file is calculated and stored in a \\nthreat detection cache within Salesforce Cloud, along with \\nfile content and its metadata. The checksum is compared to \\nthose saved in the existing threat detection cache to see if \\nthe file has been analyzed before. In this way, cloud calls can \\nbe limited and the user experience further improved. Existing \\nthreat detection results are periodically updated and expired \\nresults cleared automatically in order to ensure up-to-date \\nprotection. If analysis results are available from the cache, \\nthey are automatically used.\\nThreat Intelligence Check\\nIf no results are found in the cache, a threat intelligence check \\nis made via the WithSecure™ Security Cloud using the SHA-1 \\nchecksum. The service returns file safety reputation, preva-\\nlence and possible threats detected, automatically blocking \\nany malicious files. Depending on the settings, the system \\neither replaces the malicious files with a .txt file explaining why \\nthe original file has been removed, or simply blocks any further \\naccess to malicious files.Multi-Engine Anti-Malware\\nIf file reputation is unknown, the contents of the file are \\nuploaded to the WithSecure™ Security Cloud for further threat \\nanalysis. The file is subjected to deeper analysis by multiple \\ncomplementary anti-malware engines in order to find malware, \\nzero-day exploits and patterns of advanced threats. At this \\nstage, the analysis process utilizes the full extent of the threat \\nintelligence data and capabilities collected by WithSecure™ \\nLabs.\\nContent Filtering\\nBefore performing a threat analysis, the Cloud Protection app \\nchecks the file against the list of disallowed file types or exten-\\nsions defined in the solution settings. If the file is found with \\none of extensions or file types from the disallowed list, the app \\ntakes action to block the file. Administrator receives an secu-\\nri-ty alert according to the notification settings.\\nWith the content filtering, the organization can prevent users \\nfrom uploading inappropriate or dangerous content. For \\nexample, to minimize a risk of spreading malware, Cloud \\nProtection can be configured to block any executables (such \\nas EXE, COM) or scripts (such as VBS, PS1) uploaded to \\nSalesforce Cloud.• It detects a broader range of malicious features, patterns and \\ntrends, enabling more reliable and accurate detection, even for \\npreviously unseen malware variants\\n• By leveraging real-time threat intelligence gathered from tens of \\nmillions of security clients, it provides faster and better protection \\nagainst new and emerging threats\\n• Emulation enables the detection of malware that utilizes obfusca-\\ntion techniques\\nWithSecure™ Cloud Protection for Salesforce10', metadata={'source': '/Users/ongbt/Personal/Learn/learn-generative-ai/withsecure-cloud-protection-salesforce-solution-overview-en.pdf', 'page': 9}),\n",
       " Document(page_content=\"Smart Cloud Sandbox\\nBased on threat analysis results, the system uses finetuned \\nmachine learning techniques to decide whether to send the \\nfile to the Smart Cloud Sandbox for deeper analysis. If it \\nhas suspicious risk indicators, a file is sent to the Sandbox, \\nwhere it is executed in several virtual environments to analyze \\nbehavior . By focusing analysis on malicious behavior rather \\nthan static identifiers, the Smart Cloud Sandbox is able to \\nidentify and block even the most sophisticated or zero-day \\nmalware and exploits.\\nAnalysis Results\\nBased on the final verdict, the uploaded file is categorized as \\neither harmful or clean. Depending on settings specifications, \\nthe file is removed if it is harmful or suspicious and/or the file \\nuploader and administrators are notified about the incident. If \\nno security threats are found, the file is accessible in its original \\nupload location and a file threat detection event is recorded to \\nthe scan log for further analysis and auditing, if needed. The \\nfinal verdict, file reputation and other threat analysis details \\nare stored in the threat detection cache for future use. Detec-\\ntion details of malicious files are sent to WithSecure's threat \\nintelligence service so that the next threat detection query can \\nidentify and block the threat immediately .4.2.2 Download Protection\\nDownload Protection makes sure that users cannot download \\nharmful or disallowed content from Chatter , Salesforce Files \\nor Attachments. WithSecure™ Cloud Protection goes through \\nthe same process as described above. If the file verdict is \\nalready available in the threat detection cache, the file is \\nallowed/ blocked accordingly , and if not, it will be subjected \\nto the same process as above. If the file is safe, the user will \\ndownload the file seamlessly, as per the regular Salesforce \\nuser experience. If the file is detected as harmful or disallowed, \\nthe application will block user access to the file and, depending \\non solution settings, send an alert to the administrator . Checks \\nat both upload and download stages are critical to ensure that \\nthe latest security intelligence is always used. Malware that \\nmight have bypassed the process earlier is caught later when \\nnew threat intelligence becomes available.\\n4.2.3 Manual Scanning\\nManual scanning can be used to scan Salesforce files and \\nattachments which were either added to the Salesforce Cloud \\nbefore installing WithSecure™ Cloud Protection or were exclud-\\ned from scanning by Upload and Download Protection. Addi-\\ntionally , a scheduled scan can be set to scan the full system at \\nregular intervals. The scans are executed in background without \\ninterference to the user experience or performance.\\nWithSecure™ Cloud Protection for Salesforce11\", metadata={'source': '/Users/ongbt/Personal/Learn/learn-generative-ai/withsecure-cloud-protection-salesforce-solution-overview-en.pdf', 'page': 10}),\n",
       " Document(page_content=\"4.3 URL Protection\\nURL Protection is a key security function that proactive-\\nly prevents Salesforce users from accessing malicious or \\nunwanted content through web links added to Chatter posts \\nand comments, Case descriptions and comments, as well as \\nbodies of messages received via Email-To-Case. \\nThis makes it a particularly effective security component, as \\nthe early intervention greatly reduces the overall exposure \\nto malicious content, and thus attacks. For example, it will \\nprevent users from being tricked into accessing seemingly \\nlegitimate phishing sites, malicious sites, or accessing content \\nthat is deemed inappropriate in a business context, such as \\nadult or gambling sites. \\nURL Protection was created to deal efficiently with the \\nbillions of sites available on the Internet and their constantly \\nfluctuating security status. It is based on realtime lookup \\nqueries to WithSecure's scurity Cloud. All queries go through \\nseveral layers of anonymization to ensure utmost business \\nconfidentiality. \\nThe query fetches the latest reputation of the websites and \\ntheir files, based on various data points, including: IP address-\\nes, URL keywords, site patterns, extracted website metadata \\nlike iframes and file types, and website behavior like exploit \\nattempts, malicious redirects or scripts.4.3.1 URL Security Check\\nThe solution intercepts URLs that users post to Chatter or \\nforms part of the email body (Email-to-Case) and replaces \\nthem with special redirect links, as shown on the screenshot \\nbelow . The original link is included in brackets for recognition \\npurposes, but the user cannot click it. Copying is prevented by \\nobfuscating the URL. \\nIn case the link is deemed malicious based on the information \\nreceived from the query , entry to the website is blocked before \\nany content in loaded, and the end-user receives a warning. \\nWhen the user clicks a redirect link, WithSecure™ Cloud \\nProtection will send the original URL to the WithSecure™ \\nSecurity Cloud for a threat intelligence check. Based on URL \\nthreat intelligence, access to the original URL iseither allowed \\nor blocked.\\n4.3.2 URL Classification\\nURL Classification allows administrators to control and \\nenforce the web pages that Salesforce users can access. They \\ncan, for example, deny access to non work- related destina-\\ntions, such as social media sites, to avoid loss of working time. \\nSites in higher risk categories such as Adult or Gambling can be blocked to avoid potentially malicious sites and the viewing \\nof inappropriate content in the business environment and on \\ncustomer or partner portals.\\nWhen the user clicks a redirect link, WithSecure™ Cloud \\nProtection sends the original URL to the WithSecure™ Secu-\\nrity Cloud for a threat intelligence check. Based on the URL \\nthreat intelligence information, access to the original URL is \\neither allowed or blocked. \\nSolution administrators can enforce usage rules in 28 different \\ncategories: Abortion, Ad services, Adult, Alcohol and tobacco, \\nAnonymizers, Auctions, Banking, Blogs, Chat, Dating, Drugs, \\nEntertainment, Gambling, Games, Hacking, Hate, Job search, \\nPayment service, Scam, Shopping, Social networking, Soft-\\nware download.\\nWithSecure™ Cloud Protection for Salesforce12\", metadata={'source': '/Users/ongbt/Personal/Learn/learn-generative-ai/withsecure-cloud-protection-salesforce-solution-overview-en.pdf', 'page': 11}),\n",
       " Document(page_content='4.4 Email Protection\\nSalesforce Email-to-Case automatically creates cases and \\nauto-populates case fields when customers send messages \\nto specified email addresses. WithSecure™ Cloud Protection \\nintercepts inbound email and starts threat detection for all \\nattachments and URLs. If the file verdict is already known and \\nthreat detection Time- To-Live (TTL) is still valid, malicious files \\nare removed or administrators are notified about the incident. \\nIn addition, all URLs are rewritten. \\nIf the file is new or the TTL is expired, WithSecure™ Cloud \\nProtection will start the same threat detection process used in \\nupload protection. See section 4.2 File Protection.\\nWhen a user clicks a URL, WithSecure™ Cloud Protection \\nwills start the same threat detection process used in URL \\nSecurity Check. See section 4.3 URL Protection.4.5 Management\\nThanks to rich reporting, flexible alerting, advanced security \\nanalytics and full audit trails, responding to threats is easy for \\nsystem administrators and full 360-degree visibility makes \\nsure that you know your Salesforce usage patterns. This is \\nhelpful when responding to an attack taking place through \\nSalesforce, investigating an attack coming from an unknown \\nsource, or in verifying whether Salesforce was part of an \\nincident.\\n4.5.1 Analytics\\nWithSecure™ Cloud Protection gives 360-degree visibility \\ninto Salesforce content. All upload and download file actions \\nand URL clicks are stored in an analytics log. Analytics \\nincludes File and URL event history view which is helpful \\nwhen administrator wants to identify all users who have \\naccessed Salesforce content.\\nMany IT departments don’t know what kind of content their \\norganizations store in Salesforce. That knowledge is often \\nhelpful, as IT administrators may, for example, find executable \\nfiles that should not be stored there. \\nFurthermore, better understanding internal customer needs \\nand use cases helps administrators to serve their organization \\nmore effectively. With powerful search functionality, solution administrators and IT security departments can investigate \\ncontent-based attacks in seconds:\\n• Confirm or rule out Salesforce as an attack vector\\n• Find attacker details such as an IP address\\n• Identify users who accessed malicious content\\nAnalytic log includes the following \\nInformation:\\n• Timestamp\\n• Action\\n• Verdict + File Prevalence\\n• Reason\\n• Direction\\n• (Upload/Download/Post/Click)\\n• Username\\n• Filename\\n• File type\\n• File version\\n• File Size\\n• URL\\n• URL Categories\\n• Location (Where the file/URL is stored)\\n• File SHA-1 checksum\\n• IP-Address\\nWithSecure™ Cloud Protection for Salesforce13', metadata={'source': '/Users/ongbt/Personal/Learn/learn-generative-ai/withsecure-cloud-protection-salesforce-solution-overview-en.pdf', 'page': 12}),\n",
       " Document(page_content='4.5.1 Alerts\\nAll security alerts and audit events are written to the Security \\nAlerts log. Salesforce administrators can enable solution \\nadministrators and IT security personnel to receive alerts in \\nthe following situations:4.5.3 Reporting\\nWithSecure™ Cloud Protection gives you a rich view of Sales-\\nforce content:\\n• Harmful content found\\n• Harmful content blocked on upload (alert to uploader if the user is \\ninternal)\\n• Harmful URL found\\n• Harmful URL found on upload (alert to uploader if the user is \\ninternal) \\n• Disallowed URL found (alert to uploader if the user is internal)\\n• If file or URL scanning results changed from safe to unsafe\\n• Disallowed file type found\\n• Disallowed file type found on upload (alert to uploader if the user is \\ninternal)Summary Protection Dashboard:\\n• Protected file uploads + trend \\n• Protected file downloads + trend\\n• Protected URL posts + trend\\n• Protected URL clicks + trend\\n• Threat intelligence events + trend\\n• Protected users + trend \\nProtected Content Analytics - Dashboard:\\n• Protected Users\\n• Active File Protection Users\\n• Active URL Protection Users\\n• File Uploads\\n• File Downloads\\n• File Events by Users\\n• File Content by Location\\n• File Content by File Type\\n• Threat Intelligence Events\\n• URL Posts\\n• URL Clicks\\n• URL Events by User\\n• URL by LocationURL per Category File Protection Details \\n- Dashboard:\\n• File Protection Alerts by Severity\\n• File Threats Handled\\n• File Threats Handled by Location\\n• File Threats Handled by File Type\\n• File Threats Handled by User\\nTop File Threats (Infections) URL Protection \\nDetails - Dashboard:\\n• URL Protection Alerts by Severityv\\n• URL Threats Handled\\n• URL Threats Handled by Location\\n• URL Threats Handled by User\\n• Top URL Categories\\nWithSecure™ Cloud Protection for Salesforce14', metadata={'source': '/Users/ongbt/Personal/Learn/learn-generative-ai/withsecure-cloud-protection-salesforce-solution-overview-en.pdf', 'page': 13}),\n",
       " Document(page_content='4.5.4 Administration\\nSolution administrator can enable or disable protection func-\\ntionality and actions based on company security policies. \\nFor example, if strict compliance or secrecy requirements \\nprevent uploading of files to the cloud for analysis, settings \\ncan be changed.\\n4.5.5 Deployment\\nWithSecure™ Cloud Protection is a combination of a native \\nSalesforce application and the WithSecure™ Security Cloud, \\nwhich provides reputation and security services used in \\nother WithSecure™ and third party products. The solution is \\ninstalled on the Salesforce platform and offers protection to \\nall Salesforce clouds that your company uses like the Sales, \\nService or Community Cloud. No other software or network \\nconfiguration changes are required.\\nAlternatively , you can deploy the solution as a connected app. \\nA connected app is an application type that securely accesses \\nand interacts with data and functionalities within the Sales-\\nforce platform by leveraging APIs. This solution type provides \\nfortified scanning and threat analysis capabilities. We highly \\nrecommend creating a separate integration user to manage \\nconnected app integration.4.5.6 Customization\\nWithSecure™ Cloud Protection allows Salesforc administra-\\ntors to customize all end-user messages. It is possible to use \\na custom banner in scanning pages and customize the follow-\\ning messages:WithSecure™ Cloud Protection also support \\ncustom reports via Salesforce Reports.\\nThe following attributes are available in File \\nProtection reports:\\n• Created By: Full Name, Created Date, Date/Time, File\\n• Extension, File Name, File Scan ID, File Size, File Type, IP \\nAddress\\n• Last Modified By: Full Name, Last Modified Date, Name, Owner: \\nFull Name, Record ID, Scan Type, SHA1, Location\\n• User: Full Name, Verdict, Owner (First Name, Full Name, Last \\nName, Owner ID, Phone\\n• Profile: Name Rule: Name, Title, Username, Email, Alias, Active), \\nReason, File Prevalence, File Reputation Rating• Harmful content found (Alert for administrators)\\n• Harmful content found on upload (Alert for internal users)\\n• Malicious file is replaced with a text file (File content)\\n• Harmful URL found (Alert for administrators)\\n• Harmful URL found on upload (Alert for internal users)\\n• Disallowed URL found (Alert for administrators)\\n• Disallowed URL found on upload (Alert for internal users)\\n• If file or URL scanning results changes from safe to unsafe (Alert \\nfor administrators)\\n• Disallowed content found (Alert for administrators)\\n• Disallowed content found on upload (Alert for internal users)\\nThe following attributes are available in URL \\nProtection reports:\\nURL Scan: ID, URL Scan: Name, Action, Categories, Date/ Time, \\nDirection, IP Address, Location, Reason, Reputation, Reputation \\nDescription, URL, User , Verdict, Owner Name, Owner Alias, Owner \\nRole, Created By, Created Alias, Created Date, Last Modified By, \\nLast Modified Alias, Last Modified Date\\nWithSecure™ Cloud Protection for Salesforce15', metadata={'source': '/Users/ongbt/Personal/Learn/learn-generative-ai/withsecure-cloud-protection-salesforce-solution-overview-en.pdf', 'page': 14}),\n",
       " Document(page_content='5. WithSecureTM Security Cloud\\nWithSecure™ Security Cloud is a cloud-based digital threat \\nanalysis system operated by WithSecure™. It consists of a \\nconstantly growing and evolving knowledge base of digital \\nthreats fed by client system data and automated threat anal-\\nysis services. The infrastructure for Security Cloud is hosted \\non servers in multiple Amazon Web Services data centers \\naround the world. Security Cloud is a high-volume system that \\nreceives over 8 billion queries every day .\\nWe collect only the minimum amount of client data necessary \\nto provide our services. Every transferred bit must be justifi-able from a threat prevention perspective, and data is never \\ncollected for presumed future needs. With default settings, \\nSecurity Cloud does not collect IP addresses, files or other \\nclassified information. Customers can give WithSecure™ \\npermission to store suspicious executables files and/or suspi-\\ncious non-executables files.\\nBy evaluating the combined metadata with information drawn \\nfrom in-house databases and various other sources, the \\nauto-mated analysis systems provide a fully informed, up-to-\\ndate risk assessment for the threat, immediately blocking those that have been seen previously by any other service or \\ndevice connected to Security Cloud.\\nSecurity Cloud also allows WithSecure™ Response Labs \\nanalysts to provide critical human intelligence and judgment \\nto complement automated systems and on host scanning \\ntechnology . In addition to creating and maintaining the rules \\nthat underpin the databases and automated analysis systems, \\nanalysts actively monitor the latest threats and research \\nmalware characteristics and behavior patterns to find the most \\neffective ways to identify malicious programs.\\nThe following table documents our privacy principles in full detail:\\nMinimize upstream of technical data WithSecure™ Security Cloud employs multi-stage content analysis. File data is not sent to \\nSecurity Cloud unless it is essential to providing protection and customer has allowed it.\\nDo not send personal data upstream No information on who posts or accesses analyzed Files/URLs, or from where, is sent to \\nWithSecure™ Security Cloud.\\nDo not trust the network All metadata, files, and other content are transferred to Security Cloud securely either over \\nHTTPS or separately encrypted and signed over HTTP.\\nWithSecure™ Cloud Protection for Salesforce16', metadata={'source': '/Users/ongbt/Personal/Learn/learn-generative-ai/withsecure-cloud-protection-salesforce-solution-overview-en.pdf', 'page': 15}),\n",
       " Document(page_content='Security Cloud principles:\\nSecure by design A system is never secure unless it has been designed to be secure. Security can’t be \\nadded as a project afterthought. This is something that was put into practice when \\ndeveloping Security Cloud and its related systems.\\nEncrypted network traffic Data is never transferred in plaintext over the Internet. Encryption is, in addition, used \\nto ensure the integrity of various objects. WithSecure™ utilizes a mixture of generally \\navailable cryptographic libraries and protocols, and\\ncustomized cryptographic code.\\nSeparated malware environments We have over 20 years of experience in meeting the challenges of storing and testing \\nmalicious software. All malware handling is performed in networks isolated from the \\nInternet and other WithSecure™ networks. Storage and testing networks are isolated \\nfrom each other, and files are transferred using strictly controlled methods.\\nProfessional monitoring All critical Security Cloud systems are monitored by WithSecure™ personnel. All \\nsystems storing or testing malware are hosted by WithSecure™ corporate.\\nControlled access Only a limited number of WithSecure™ employees have access to Security Cloud’s \\ncritical systems. Such access is granted, revoked and documented according to a \\ndocumented and controlled process.\\nOpen attitude The most fundamental principle in all security work is having an open and humble \\nattitude. We have put a lot of effort into securing Security Cloud, but the work is never \\nfinished. A secure system can only be maintained by promoting an open attitude \\nin which system problems are reported, analyzed and fixed promptly. This attitude \\nincludes public openness, should we encounter incidents that put customer security \\nin jeopardy .\\nFind out more about WithSecure™ Security Cloud in our Security Cloud Whitepaper and Security Cloud Privacy Policy .5.1 Threat Intelligence Service\\nBy leveraging real-time threat intelligence gathered from tens of millions of \\nsensors, we can identify new and emerging threats within minutes of inception, \\nensuring exceptional security against the constantly evolving threat landscape. \\nThreat Intelligence Service enables WithSecure™ Cloud Protection to query \\nthe reputation of objects like files and URLs. Files are verified by calculating the \\nobject’s cryptographic hash SHA-1 and sending it to the reputation service.\\n5.2 Multi-Engine Anti-Virus\\nMulti-Engine Anti-Virus uses multiple security layers to detect exploits and \\nunknown malware used in targeted attacks. The system combines behavior-al \\nanalysis, and heuristic and machine learning detection capabilities, which \\nallow it to identify specific malware, families of malware with similar features, \\nand broad ranges of malicious physical features and patterns. The results of \\nthis analysis may cause the file to be flagged as suspicious and sent on to the \\nSmart Cloud Sandbox for further processing.\\n5.3 Smart Cloud Sandbox\\nThe Smart Cloud Sandbox runs suspect files in several virtual environments \\nand analyzes file behavior. If the file behavior is determined to be suspicious, \\ninformation is sent to the multi-engine anti-virus and threat intelligence service, \\nwhere the next threat detection query will block the threat.\\nWithSecure™ Cloud Protection for Salesforce17', metadata={'source': '/Users/ongbt/Personal/Learn/learn-generative-ai/withsecure-cloud-protection-salesforce-solution-overview-en.pdf', 'page': 16}),\n",
       " Document(page_content=\"WithSecureTM, formerly F-Secure Business, is cyber security's reliable \\npartner. IT service providers, MSSPs and businesses – along with the \\nlargest financial institutions, manufacturers, and thousands of the \\nworld's most advanced communications and technology providers – \\ntrust us for outcome-based cyber security that protects and enables \\ntheir operations. Our AI-driven protection secures endpoints and \\ncloud collaboration, and our intelligent detection and response are \\npowered by experts who identify business risks by proactively hunting \\nfor threats and confronting live attacks. Our consultants partner with \\nenterprises and tech challengers to build resilience through evidence-\\nbased security advice. With more than 30 years of experience in building \\ntechnology that meets business objectives, we've built our portfolio to \\ngrow with our partners through flexible commercial models.\\nWithSecureTM Corporation was founded in 1988, and is listed on NASDAQ \\nOMX Helsinki Ltd.Who We Are\", metadata={'source': '/Users/ongbt/Personal/Learn/learn-generative-ai/withsecure-cloud-protection-salesforce-solution-overview-en.pdf', 'page': 17})]"
      ]
     },
     "execution_count": 49,
     "metadata": {},
     "output_type": "execute_result"
    }
   ],
   "source": [
    "pages"
   ]
  },
  {
   "cell_type": "code",
   "execution_count": 50,
   "id": "55204765",
   "metadata": {},
   "outputs": [],
   "source": [
    "student_description = \"A person formally engaged in learning, especially one enrolled in a school or college; Tan Wei Si studies at NUS. He scored 4 in GPA. He plays football at the Singapore Football Association.\""
   ]
  },
  {
   "cell_type": "code",
   "execution_count": 51,
   "id": "f17e0e40",
   "metadata": {},
   "outputs": [
    {
     "data": {
      "text/plain": [
       "'A person formally engaged in learning, especially one enrolled in a school or college; Tan Wei Si studies at NUS. He scored 4 in GPA. He plays football at the Singapore Football Association.'"
      ]
     },
     "execution_count": 51,
     "metadata": {},
     "output_type": "execute_result"
    }
   ],
   "source": [
    "student_description"
   ]
  },
  {
   "cell_type": "code",
   "execution_count": 52,
   "id": "f0b41181",
   "metadata": {},
   "outputs": [],
   "source": [
    "prompt = f'''\n",
    "Please extract the following information form the given text and return it as a JSON object:\n",
    "\n",
    "name\n",
    "college\n",
    "grades\n",
    "club\n",
    "\n",
    "This is the body of text to extract the information from:\n",
    "{student_description}\n",
    "'''"
   ]
  },
  {
   "cell_type": "code",
   "execution_count": 53,
   "id": "15154c5f",
   "metadata": {},
   "outputs": [],
   "source": [
    "student_custom_functions = [\n",
    "    {\n",
    "        'name': 'extract_student_information',\n",
    "        'description': 'Get the student information from body of text',\n",
    "        'parameters': {\n",
    "            'type': 'object',\n",
    "            'properties': {\n",
    "                'name': {\n",
    "                    'type': 'string',\n",
    "                    'description': 'Name of person'\n",
    "                },\n",
    "                'college': {\n",
    "                    'type': 'string',\n",
    "                    'description': 'College of person'\n",
    "                },\n",
    "                'grades': {\n",
    "                    'type': 'integer',\n",
    "                    'description': 'Grades of person'\n",
    "                },\n",
    "                'club': {\n",
    "                    'type': 'string',\n",
    "                    'description': 'Club of person'\n",
    "                }\n",
    "                \n",
    "            },\n",
    "            'required': ['name']\n",
    "            \n",
    "        }\n",
    "        \n",
    "        \n",
    "    }\n",
    "    \n",
    "    \n",
    "]"
   ]
  },
  {
   "cell_type": "code",
   "execution_count": 54,
   "id": "84efb7f0",
   "metadata": {},
   "outputs": [
    {
     "data": {
      "text/plain": [
       "'\\nPlease extract the following information form the given text and return it as a JSON object:\\n\\nname\\ncollege\\ngrades\\nclub\\n\\nThis is the body of text to extract the information from:\\nA person formally engaged in learning, especially one enrolled in a school or college; Tan Wei Si studies at NUS. He scored 4 in GPA. He plays football at the Singapore Football Association.\\n'"
      ]
     },
     "execution_count": 54,
     "metadata": {},
     "output_type": "execute_result"
    }
   ],
   "source": [
    "prompt"
   ]
  }
 ],
 "metadata": {
  "kernelspec": {
   "display_name": "Python 3 (ipykernel)",
   "language": "python",
   "name": "python3"
  },
  "language_info": {
   "codemirror_mode": {
    "name": "ipython",
    "version": 3
   },
   "file_extension": ".py",
   "mimetype": "text/x-python",
   "name": "python",
   "nbconvert_exporter": "python",
   "pygments_lexer": "ipython3",
   "version": "3.10.14"
  }
 },
 "nbformat": 4,
 "nbformat_minor": 5
}
