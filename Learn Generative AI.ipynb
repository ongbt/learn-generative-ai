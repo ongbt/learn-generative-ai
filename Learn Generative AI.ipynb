{
 "cells": [
  {
   "cell_type": "code",
   "execution_count": 1,
   "id": "fd3709c5",
   "metadata": {},
   "outputs": [],
   "source": [
    "# https://learn.ineuron.ai/lesson/DAY---2-%7C-Introduction-to-OpenAI-and-understanding-the-OpenAI-API/656f0bfa0af864fe5e92e73d/course/Foundational-Generative-AI/656d8f170af8644aac926376#"
   ]
  },
  {
   "cell_type": "code",
   "execution_count": 2,
   "id": "29c94f68",
   "metadata": {},
   "outputs": [
    {
     "data": {
      "text/plain": [
       "True"
      ]
     },
     "execution_count": 2,
     "metadata": {},
     "output_type": "execute_result"
    }
   ],
   "source": [
    "import os\n",
    "from dotenv import load_dotenv\n",
    "load_dotenv()"
   ]
  },
  {
   "cell_type": "code",
   "execution_count": 3,
   "id": "039865bc",
   "metadata": {},
   "outputs": [],
   "source": [
    "OPENAI_API_KEY = os.getenv(\"OPENAI_API_KEY\")\n",
    "SERPAPI_API_KEY = os.getenv(\"SERPAPI_API_KEY\")"
   ]
  },
  {
   "cell_type": "code",
   "execution_count": 4,
   "id": "d1f50469",
   "metadata": {},
   "outputs": [],
   "source": [
    "from openai import OpenAI\n",
    "\n"
   ]
  },
  {
   "cell_type": "code",
   "execution_count": 5,
   "id": "60021f25",
   "metadata": {},
   "outputs": [],
   "source": [
    "client = OpenAI(api_key=OPENAI_API_KEY)\n",
    "client.api_key = OPENAI_API_KEY"
   ]
  },
  {
   "cell_type": "code",
   "execution_count": 6,
   "id": "20dd2c24",
   "metadata": {},
   "outputs": [],
   "source": [
    "\n",
    "response = client.chat.completions.create(\n",
    "  model=\"gpt-3.5-turbo\",\n",
    "  messages=[\n",
    "    {\n",
    "      \"role\": \"user\",\n",
    "      \"content\": \"how to make money\\n\"\n",
    "    }\n",
    "  ],\n",
    "  temperature=1,\n",
    "  max_tokens=256,\n",
    "  top_p=1,\n",
    "  frequency_penalty=0,\n",
    "  presence_penalty=0\n",
    ")"
   ]
  },
  {
   "cell_type": "code",
   "execution_count": 7,
   "id": "aba413ff",
   "metadata": {},
   "outputs": [
    {
     "data": {
      "text/plain": [
       "ChatCompletion(id='chatcmpl-981cksIfCRqlkUqpOuwiI70l3RWc4', choices=[Choice(finish_reason='length', index=0, logprobs=None, message=ChatCompletionMessage(content='1. Get a job: The most straightforward way to make money is to find a job in your field of interest or expertise. This could be a full-time, part-time, or freelance position.\\n\\n2. Start a side hustle: Use your skills and talents to start a side business or gig that can generate extra income. This could include selling products online, offering services like tutoring or pet sitting, or starting a blog or YouTube channel.\\n\\n3. Invest in stocks or real estate: Investing in the stock market or real estate can be a way to grow your wealth over time. Make sure to do thorough research and consult with a financial advisor before making any investment decisions.\\n\\n4. Provide a service: Offer your services in exchange for payment, such as house cleaning, dog walking, or landscaping. You can also consider becoming a virtual assistant, freelance writer, or social media manager.\\n\\n5. Monetize your hobbies: If you have a hobby or passion that you excel at, consider ways to monetize it. For example, if you love photography, you could sell your photos online or offer photography services for events.\\n\\n6. Take online surveys or participate in market research: There are companies that pay individuals to participate in online surveys or market research studies. While this may not provide', role='assistant', function_call=None, tool_calls=None))], created=1711699894, model='gpt-3.5-turbo-0125', object='chat.completion', system_fingerprint='fp_3bc1b5746c', usage=CompletionUsage(completion_tokens=256, prompt_tokens=12, total_tokens=268))"
      ]
     },
     "execution_count": 7,
     "metadata": {},
     "output_type": "execute_result"
    }
   ],
   "source": [
    "response"
   ]
  },
  {
   "cell_type": "code",
   "execution_count": 8,
   "id": "05b53128",
   "metadata": {},
   "outputs": [
    {
     "data": {
      "text/plain": [
       "'1. Get a job: The most straightforward way to make money is to find a job in your field of interest or expertise. This could be a full-time, part-time, or freelance position.\\n\\n2. Start a side hustle: Use your skills and talents to start a side business or gig that can generate extra income. This could include selling products online, offering services like tutoring or pet sitting, or starting a blog or YouTube channel.\\n\\n3. Invest in stocks or real estate: Investing in the stock market or real estate can be a way to grow your wealth over time. Make sure to do thorough research and consult with a financial advisor before making any investment decisions.\\n\\n4. Provide a service: Offer your services in exchange for payment, such as house cleaning, dog walking, or landscaping. You can also consider becoming a virtual assistant, freelance writer, or social media manager.\\n\\n5. Monetize your hobbies: If you have a hobby or passion that you excel at, consider ways to monetize it. For example, if you love photography, you could sell your photos online or offer photography services for events.\\n\\n6. Take online surveys or participate in market research: There are companies that pay individuals to participate in online surveys or market research studies. While this may not provide'"
      ]
     },
     "execution_count": 8,
     "metadata": {},
     "output_type": "execute_result"
    }
   ],
   "source": [
    "response.choices[0].message.content"
   ]
  },
  {
   "cell_type": "code",
   "execution_count": 9,
   "id": "ee451244",
   "metadata": {},
   "outputs": [
    {
     "data": {
      "text/plain": [
       "openai.types.chat.chat_completion.ChatCompletion"
      ]
     },
     "execution_count": 9,
     "metadata": {},
     "output_type": "execute_result"
    }
   ],
   "source": [
    "type(response)"
   ]
  }
 ],
 "metadata": {
  "kernelspec": {
   "display_name": "Python 3 (ipykernel)",
   "language": "python",
   "name": "python3"
  },
  "language_info": {
   "codemirror_mode": {
    "name": "ipython",
    "version": 3
   },
   "file_extension": ".py",
   "mimetype": "text/x-python",
   "name": "python",
   "nbconvert_exporter": "python",
   "pygments_lexer": "ipython3",
   "version": "3.10.14"
  }
 },
 "nbformat": 4,
 "nbformat_minor": 5
}
