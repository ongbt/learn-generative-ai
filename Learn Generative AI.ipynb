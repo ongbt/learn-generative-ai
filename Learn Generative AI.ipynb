{
 "cells": [
  {
   "cell_type": "code",
   "execution_count": null,
   "id": "fd3709c5",
   "metadata": {},
   "outputs": [],
   "source": [
    "# https://learn.ineuron.ai/lesson/DAY---2-%7C-Introduction-to-OpenAI-and-understanding-the-OpenAI-API/656f0bfa0af864fe5e92e73d/course/Foundational-Generative-AI/656d8f170af8644aac926376#"
   ]
  },
  {
   "cell_type": "code",
   "execution_count": null,
   "id": "29c94f68",
   "metadata": {},
   "outputs": [],
   "source": [
    "import os\n",
    "from dotenv import load_dotenv\n",
    "load_dotenv()"
   ]
  },
  {
   "cell_type": "code",
   "execution_count": null,
   "id": "039865bc",
   "metadata": {},
   "outputs": [],
   "source": [
    "OPENAI_API_KEY = os.getenv(\"OPENAI_API_KEY\")\n",
    "SERPAPI_API_KEY = os.getenv(\"SERPAPI_API_KEY\")"
   ]
  },
  {
   "cell_type": "code",
   "execution_count": 4,
   "id": "d1f50469",
   "metadata": {},
   "outputs": [],
   "source": [
    "from openai import OpenAI\n",
    "\n"
   ]
  },
  {
   "cell_type": "code",
   "execution_count": 7,
   "id": "60021f25",
   "metadata": {},
   "outputs": [],
   "source": [
    "client = OpenAI(api_key=OPENAI_API_KEY)\n",
    "client.api_key = OPENAI_API_KEY"
   ]
  },
  {
   "cell_type": "code",
   "execution_count": 10,
   "id": "20dd2c24",
   "metadata": {},
   "outputs": [],
   "source": [
    "\n",
    "response = client.chat.completions.create(\n",
    "  model=\"gpt-3.5-turbo\",\n",
    "  messages=[\n",
    "    {\n",
    "      \"role\": \"user\",\n",
    "      \"content\": \"how to make money\\n\"\n",
    "    }\n",
    "  ],\n",
    "  temperature=1,\n",
    "  max_tokens=256,\n",
    "  top_p=1,\n",
    "  frequency_penalty=0,\n",
    "  presence_penalty=0\n",
    ")"
   ]
  },
  {
   "cell_type": "code",
   "execution_count": 11,
   "id": "aba413ff",
   "metadata": {},
   "outputs": [
    {
     "data": {
      "text/plain": [
       "ChatCompletion(id='chatcmpl-8zN0D42GBONkEkelJC0YV47q99sZh', choices=[Choice(finish_reason='length', index=0, logprobs=None, message=ChatCompletionMessage(content=\"1. Get a job - Working in a traditional job is one of the most common ways to make money. Look for job opportunities in your area that match your skills and experience.\\n\\n2. Start a side hustle - Consider starting a side business or freelancing gig to earn extra income. This could be anything from selling handmade crafts online to offering tutoring services.\\n\\n3. Invest in the stock market - Investing in stocks, mutual funds, or other securities can be a way to potentially grow your wealth over time. Be sure to research and educate yourself before diving into the stock market.\\n\\n4. Rent out property - If you own property, you can consider renting it out to earn passive income. This could be in the form of renting out a room in your home or buying a rental property.\\n\\n5. Monetize your hobbies - If you have a hobby or skill that you are passionate about, consider turning it into a money-making opportunity. For example, if you enjoy photography, you could offer your services as a photographer for events or sell your photos online.\\n\\n6. Take online surveys - There are many companies that pay for your opinion by taking online surveys. While you won't earn a significant amount of money, it can be a quick and easy way to make some extra cash.\\n\\n\", role='assistant', function_call=None, tool_calls=None))], created=1709637121, model='gpt-3.5-turbo-0125', object='chat.completion', system_fingerprint='fp_2b778c6b35', usage=CompletionUsage(completion_tokens=256, prompt_tokens=12, total_tokens=268))"
      ]
     },
     "execution_count": 11,
     "metadata": {},
     "output_type": "execute_result"
    }
   ],
   "source": [
    "response"
   ]
  },
  {
   "cell_type": "code",
   "execution_count": 15,
   "id": "05b53128",
   "metadata": {},
   "outputs": [
    {
     "data": {
      "text/plain": [
       "\"1. Get a job - Working in a traditional job is one of the most common ways to make money. Look for job opportunities in your area that match your skills and experience.\\n\\n2. Start a side hustle - Consider starting a side business or freelancing gig to earn extra income. This could be anything from selling handmade crafts online to offering tutoring services.\\n\\n3. Invest in the stock market - Investing in stocks, mutual funds, or other securities can be a way to potentially grow your wealth over time. Be sure to research and educate yourself before diving into the stock market.\\n\\n4. Rent out property - If you own property, you can consider renting it out to earn passive income. This could be in the form of renting out a room in your home or buying a rental property.\\n\\n5. Monetize your hobbies - If you have a hobby or skill that you are passionate about, consider turning it into a money-making opportunity. For example, if you enjoy photography, you could offer your services as a photographer for events or sell your photos online.\\n\\n6. Take online surveys - There are many companies that pay for your opinion by taking online surveys. While you won't earn a significant amount of money, it can be a quick and easy way to make some extra cash.\\n\\n\""
      ]
     },
     "execution_count": 15,
     "metadata": {},
     "output_type": "execute_result"
    }
   ],
   "source": [
    "response.choices[0].message.content"
   ]
  },
  {
   "cell_type": "code",
   "execution_count": 12,
   "id": "ee451244",
   "metadata": {},
   "outputs": [
    {
     "data": {
      "text/plain": [
       "openai.types.chat.chat_completion.ChatCompletion"
      ]
     },
     "execution_count": 12,
     "metadata": {},
     "output_type": "execute_result"
    }
   ],
   "source": [
    "type(response)"
   ]
  }
 ],
 "metadata": {
  "kernelspec": {
   "display_name": "Python 3 (ipykernel)",
   "language": "python",
   "name": "python3"
  },
  "language_info": {
   "codemirror_mode": {
    "name": "ipython",
    "version": 3
   },
   "file_extension": ".py",
   "mimetype": "text/x-python",
   "name": "python",
   "nbconvert_exporter": "python",
   "pygments_lexer": "ipython3",
   "version": "3.11.4"
  }
 },
 "nbformat": 4,
 "nbformat_minor": 5
}
